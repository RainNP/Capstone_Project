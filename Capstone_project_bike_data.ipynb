{
  "nbformat": 4,
  "nbformat_minor": 0,
  "metadata": {
    "colab": {
      "provenance": [],
      "authorship_tag": "ABX9TyOXhruspaBA6LXz0xQNiOEV",
      "include_colab_link": true
    },
    "kernelspec": {
      "name": "python3",
      "display_name": "Python 3"
    },
    "language_info": {
      "name": "python"
    }
  },
  "cells": [
    {
      "cell_type": "markdown",
      "metadata": {
        "id": "view-in-github",
        "colab_type": "text"
      },
      "source": [
        "<a href=\"https://colab.research.google.com/github/RainNP/Capstone_Project/blob/main/Capstone_project_bike_data.ipynb\" target=\"_parent\"><img src=\"https://colab.research.google.com/assets/colab-badge.svg\" alt=\"Open In Colab\"/></a>"
      ]
    },
    {
      "cell_type": "markdown",
      "source": [
        "##Capstone Project\n",
        "\n",
        "This project is part of Google Data Analytics Certificates \n"
      ],
      "metadata": {
        "id": "CC5eMX92K0u1"
      }
    },
    {
      "cell_type": "markdown",
      "source": [
        "**Project scenario**\n",
        "\n",
        "The marketing analyst team at Cyclistic, a bike-share company in Chicago\n",
        "\n",
        "The director of marketing believes the company’s future success depends on maximizing the number of annual memberships. \n",
        "\n",
        "Therefore, the team wants to understand how casual riders and annual members use Cyclistic bikes differently.\n",
        "\n",
        "\n",
        "\n"
      ],
      "metadata": {
        "id": "l4DOONoxQnqa"
      }
    },
    {
      "cell_type": "markdown",
      "source": [
        "**In this project**\n",
        "\n",
        "I will use the data to find how casual riders and annual members use Cyclistic bikes differently."
      ],
      "metadata": {
        "id": "DDEWjWcmSB68"
      }
    },
    {
      "cell_type": "markdown",
      "source": [
        "The data come from [this link](https://divvy-tripdata.s3.amazonaws.com/index.html) (The datasets have a different name because Cyclistic is a fictional company.)\n",
        "\n",
        "The dataset provides data from 2014-Oct2022 but we will use only data from Nov2021-Oct2022 total of 12 months "
      ],
      "metadata": {
        "id": "dHQc79mXTh4D"
      }
    },
    {
      "cell_type": "markdown",
      "source": [
        "First we have to choose whitch program we would use \n",
        "\n",
        "The Google Data Analytics Certificates teach how to use spreadsheet, BigQuery(SQL) and R\n",
        "\n",
        "The data set file is too big for spreadsheet and BigQuery and RStudio free plan only give you 1GB RAM that's not enough for the dataset\n",
        "\n",
        "Other option is Python in Google colab, so here we are. "
      ],
      "metadata": {
        "id": "8RoMpq7PUphZ"
      }
    },
    {
      "cell_type": "markdown",
      "source": [
        "Then the library we gonna use is **pandas**, **numpy**, **matplotlib** and **seaborn** so we import them "
      ],
      "metadata": {
        "id": "LJdw9nMOYgqY"
      }
    },
    {
      "cell_type": "code",
      "execution_count": 31,
      "metadata": {
        "id": "TdEFDC4nPRql"
      },
      "outputs": [],
      "source": [
        "import pandas as pd\n",
        "import numpy as np\n",
        "import matplotlib.pyplot as plt\n",
        "import seaborn as sns"
      ]
    },
    {
      "cell_type": "markdown",
      "source": [
        "Then download all the data from Nov2021-Oct2022 and import it to your Google drive and usethe code below"
      ],
      "metadata": {
        "id": "KnLFA0XKZKv1"
      }
    },
    {
      "cell_type": "code",
      "source": [
        "from google.colab import drive \n",
        "drive.mount('/content/gdrive')"
      ],
      "metadata": {
        "colab": {
          "base_uri": "https://localhost:8080/"
        },
        "id": "PYnmFNKmUoKm",
        "outputId": "d9fe301e-57a1-46d9-b007-0385421b1350"
      },
      "execution_count": 3,
      "outputs": [
        {
          "output_type": "stream",
          "name": "stdout",
          "text": [
            "Mounted at /content/gdrive\n"
          ]
        }
      ]
    },
    {
      "cell_type": "code",
      "source": [
        "all_file = [pd.read_csv(\"/content/gdrive/MyDrive/data/202111-divvy-tripdata.csv\"),\n",
        "pd.read_csv(\"/content/gdrive/MyDrive/data/202112-divvy-tripdata.csv\"),\n",
        "pd.read_csv(\"/content/gdrive/MyDrive/data/202201-divvy-tripdata.csv\"),\n",
        "pd.read_csv(\"/content/gdrive/MyDrive/data/202202-divvy-tripdata.csv\"),\n",
        "pd.read_csv(\"/content/gdrive/MyDrive/data/202203-divvy-tripdata.csv\"),\n",
        "pd.read_csv(\"/content/gdrive/MyDrive/data/202204-divvy-tripdata.csv\"),\n",
        "pd.read_csv(\"/content/gdrive/MyDrive/data/202205-divvy-tripdata.csv\"),\n",
        "pd.read_csv(\"/content/gdrive/MyDrive/data/202206-divvy-tripdata.csv\"),\n",
        "pd.read_csv(\"/content/gdrive/MyDrive/data/202207-divvy-tripdata.csv\"),\n",
        "pd.read_csv(\"/content/gdrive/MyDrive/data/202208-divvy-tripdata.csv\"),\n",
        "pd.read_csv(\"/content/gdrive/MyDrive/data/202209-divvy-tripdata.csv\"),\n",
        "pd.read_csv(\"/content/gdrive/MyDrive/data/202210-divvy-tripdata.csv\")]"
      ],
      "metadata": {
        "id": "mkN9X915Wg59"
      },
      "execution_count": 4,
      "outputs": []
    },
    {
      "cell_type": "markdown",
      "source": [
        "Combine all files into one dataframe and use .head() to check attributes of the dataframe \n",
        "\n",
        "then use .drop_duplicates() to delete duplicates"
      ],
      "metadata": {
        "id": "J1QXZ-cdZggz"
      }
    },
    {
      "cell_type": "code",
      "source": [
        "all_data = pd.concat([i for i in all_file],ignore_index = True)\n",
        "all_data = all_data.drop_duplicates()\n",
        "all_data"
      ],
      "metadata": {
        "colab": {
          "base_uri": "https://localhost:8080/",
          "height": 424
        },
        "id": "TaEY5_c1XW4V",
        "outputId": "0303bec3-feb3-427b-88e2-b1cbc9b93f75"
      },
      "execution_count": 47,
      "outputs": [
        {
          "output_type": "execute_result",
          "data": {
            "text/plain": [
              "                  ride_id  rideable_type           started_at  \\\n",
              "0        7C00A93E10556E47  electric_bike  2021-11-27 13:27:38   \n",
              "1        90854840DFD508BA  electric_bike  2021-11-27 13:38:25   \n",
              "2        0A7D10CDD144061C  electric_bike  2021-11-26 22:03:34   \n",
              "3        2F3BE33085BCFF02  electric_bike  2021-11-27 09:56:49   \n",
              "4        D67B4781A19928D4  electric_bike  2021-11-26 19:09:28   \n",
              "...                   ...            ...                  ...   \n",
              "5755689  BC3BFA659C9AB6F1   classic_bike  2022-10-30 01:41:29   \n",
              "5755690  ACD65450291CF95F   classic_bike  2022-10-30 01:41:54   \n",
              "5755691  4AAC03D1438E97CA   classic_bike  2022-10-15 09:34:11   \n",
              "5755692  8E6F3F29785E5D40   classic_bike  2022-10-09 10:21:34   \n",
              "5755693  8D14CBE672431920    docked_bike  2022-10-22 13:17:13   \n",
              "\n",
              "                    ended_at          start_station_name start_station_id  \\\n",
              "0        2021-11-27 13:46:38                         NaN              NaN   \n",
              "1        2021-11-27 13:56:10                         NaN              NaN   \n",
              "2        2021-11-26 22:05:56                         NaN              NaN   \n",
              "3        2021-11-27 10:01:50                         NaN              NaN   \n",
              "4        2021-11-26 19:30:41                         NaN              NaN   \n",
              "...                      ...                         ...              ...   \n",
              "5755689  2022-10-30 01:57:16  Clifton Ave & Armitage Ave     TA1307000163   \n",
              "5755690  2022-10-30 01:57:09  Clifton Ave & Armitage Ave     TA1307000163   \n",
              "5755691  2022-10-15 10:03:21     Sedgwick St & North Ave     TA1307000038   \n",
              "5755692  2022-10-09 10:43:45     Sedgwick St & North Ave     TA1307000038   \n",
              "5755693  2022-10-22 13:46:14     Clark St & Armitage Ave            13146   \n",
              "\n",
              "                 end_station_name end_station_id  start_lat  start_lng  \\\n",
              "0                             NaN            NaN  41.930000 -87.720000   \n",
              "1                             NaN            NaN  41.960000 -87.700000   \n",
              "2                             NaN            NaN  41.960000 -87.700000   \n",
              "3                             NaN            NaN  41.940000 -87.790000   \n",
              "4                             NaN            NaN  41.900000 -87.630000   \n",
              "...                           ...            ...        ...        ...   \n",
              "5755689  Lincoln Ave & Roscoe St*   chargingstx5  41.918216 -87.656936   \n",
              "5755690  Lincoln Ave & Roscoe St*   chargingstx5  41.918216 -87.656936   \n",
              "5755691    Wabash Ave & Grand Ave   TA1307000117  41.911386 -87.638677   \n",
              "5755692  Damen Ave & Clybourn Ave          13271  41.911386 -87.638677   \n",
              "5755693    Wabash Ave & Grand Ave   TA1307000117  41.918306 -87.636282   \n",
              "\n",
              "           end_lat    end_lng member_casual  \n",
              "0        41.960000 -87.730000        casual  \n",
              "1        41.920000 -87.700000        casual  \n",
              "2        41.960000 -87.700000        casual  \n",
              "3        41.930000 -87.790000        casual  \n",
              "4        41.880000 -87.620000        casual  \n",
              "...            ...        ...           ...  \n",
              "5755689  41.943350 -87.670668        casual  \n",
              "5755690  41.943350 -87.670668        casual  \n",
              "5755691  41.891466 -87.626761        casual  \n",
              "5755692  41.931931 -87.677856        member  \n",
              "5755693  41.891466 -87.626761        casual  \n",
              "\n",
              "[5755694 rows x 13 columns]"
            ],
            "text/html": [
              "\n",
              "  <div id=\"df-f56d4cc5-1937-4b14-8358-985115019ca5\">\n",
              "    <div class=\"colab-df-container\">\n",
              "      <div>\n",
              "<style scoped>\n",
              "    .dataframe tbody tr th:only-of-type {\n",
              "        vertical-align: middle;\n",
              "    }\n",
              "\n",
              "    .dataframe tbody tr th {\n",
              "        vertical-align: top;\n",
              "    }\n",
              "\n",
              "    .dataframe thead th {\n",
              "        text-align: right;\n",
              "    }\n",
              "</style>\n",
              "<table border=\"1\" class=\"dataframe\">\n",
              "  <thead>\n",
              "    <tr style=\"text-align: right;\">\n",
              "      <th></th>\n",
              "      <th>ride_id</th>\n",
              "      <th>rideable_type</th>\n",
              "      <th>started_at</th>\n",
              "      <th>ended_at</th>\n",
              "      <th>start_station_name</th>\n",
              "      <th>start_station_id</th>\n",
              "      <th>end_station_name</th>\n",
              "      <th>end_station_id</th>\n",
              "      <th>start_lat</th>\n",
              "      <th>start_lng</th>\n",
              "      <th>end_lat</th>\n",
              "      <th>end_lng</th>\n",
              "      <th>member_casual</th>\n",
              "    </tr>\n",
              "  </thead>\n",
              "  <tbody>\n",
              "    <tr>\n",
              "      <th>0</th>\n",
              "      <td>7C00A93E10556E47</td>\n",
              "      <td>electric_bike</td>\n",
              "      <td>2021-11-27 13:27:38</td>\n",
              "      <td>2021-11-27 13:46:38</td>\n",
              "      <td>NaN</td>\n",
              "      <td>NaN</td>\n",
              "      <td>NaN</td>\n",
              "      <td>NaN</td>\n",
              "      <td>41.930000</td>\n",
              "      <td>-87.720000</td>\n",
              "      <td>41.960000</td>\n",
              "      <td>-87.730000</td>\n",
              "      <td>casual</td>\n",
              "    </tr>\n",
              "    <tr>\n",
              "      <th>1</th>\n",
              "      <td>90854840DFD508BA</td>\n",
              "      <td>electric_bike</td>\n",
              "      <td>2021-11-27 13:38:25</td>\n",
              "      <td>2021-11-27 13:56:10</td>\n",
              "      <td>NaN</td>\n",
              "      <td>NaN</td>\n",
              "      <td>NaN</td>\n",
              "      <td>NaN</td>\n",
              "      <td>41.960000</td>\n",
              "      <td>-87.700000</td>\n",
              "      <td>41.920000</td>\n",
              "      <td>-87.700000</td>\n",
              "      <td>casual</td>\n",
              "    </tr>\n",
              "    <tr>\n",
              "      <th>2</th>\n",
              "      <td>0A7D10CDD144061C</td>\n",
              "      <td>electric_bike</td>\n",
              "      <td>2021-11-26 22:03:34</td>\n",
              "      <td>2021-11-26 22:05:56</td>\n",
              "      <td>NaN</td>\n",
              "      <td>NaN</td>\n",
              "      <td>NaN</td>\n",
              "      <td>NaN</td>\n",
              "      <td>41.960000</td>\n",
              "      <td>-87.700000</td>\n",
              "      <td>41.960000</td>\n",
              "      <td>-87.700000</td>\n",
              "      <td>casual</td>\n",
              "    </tr>\n",
              "    <tr>\n",
              "      <th>3</th>\n",
              "      <td>2F3BE33085BCFF02</td>\n",
              "      <td>electric_bike</td>\n",
              "      <td>2021-11-27 09:56:49</td>\n",
              "      <td>2021-11-27 10:01:50</td>\n",
              "      <td>NaN</td>\n",
              "      <td>NaN</td>\n",
              "      <td>NaN</td>\n",
              "      <td>NaN</td>\n",
              "      <td>41.940000</td>\n",
              "      <td>-87.790000</td>\n",
              "      <td>41.930000</td>\n",
              "      <td>-87.790000</td>\n",
              "      <td>casual</td>\n",
              "    </tr>\n",
              "    <tr>\n",
              "      <th>4</th>\n",
              "      <td>D67B4781A19928D4</td>\n",
              "      <td>electric_bike</td>\n",
              "      <td>2021-11-26 19:09:28</td>\n",
              "      <td>2021-11-26 19:30:41</td>\n",
              "      <td>NaN</td>\n",
              "      <td>NaN</td>\n",
              "      <td>NaN</td>\n",
              "      <td>NaN</td>\n",
              "      <td>41.900000</td>\n",
              "      <td>-87.630000</td>\n",
              "      <td>41.880000</td>\n",
              "      <td>-87.620000</td>\n",
              "      <td>casual</td>\n",
              "    </tr>\n",
              "    <tr>\n",
              "      <th>...</th>\n",
              "      <td>...</td>\n",
              "      <td>...</td>\n",
              "      <td>...</td>\n",
              "      <td>...</td>\n",
              "      <td>...</td>\n",
              "      <td>...</td>\n",
              "      <td>...</td>\n",
              "      <td>...</td>\n",
              "      <td>...</td>\n",
              "      <td>...</td>\n",
              "      <td>...</td>\n",
              "      <td>...</td>\n",
              "      <td>...</td>\n",
              "    </tr>\n",
              "    <tr>\n",
              "      <th>5755689</th>\n",
              "      <td>BC3BFA659C9AB6F1</td>\n",
              "      <td>classic_bike</td>\n",
              "      <td>2022-10-30 01:41:29</td>\n",
              "      <td>2022-10-30 01:57:16</td>\n",
              "      <td>Clifton Ave &amp; Armitage Ave</td>\n",
              "      <td>TA1307000163</td>\n",
              "      <td>Lincoln Ave &amp; Roscoe St*</td>\n",
              "      <td>chargingstx5</td>\n",
              "      <td>41.918216</td>\n",
              "      <td>-87.656936</td>\n",
              "      <td>41.943350</td>\n",
              "      <td>-87.670668</td>\n",
              "      <td>casual</td>\n",
              "    </tr>\n",
              "    <tr>\n",
              "      <th>5755690</th>\n",
              "      <td>ACD65450291CF95F</td>\n",
              "      <td>classic_bike</td>\n",
              "      <td>2022-10-30 01:41:54</td>\n",
              "      <td>2022-10-30 01:57:09</td>\n",
              "      <td>Clifton Ave &amp; Armitage Ave</td>\n",
              "      <td>TA1307000163</td>\n",
              "      <td>Lincoln Ave &amp; Roscoe St*</td>\n",
              "      <td>chargingstx5</td>\n",
              "      <td>41.918216</td>\n",
              "      <td>-87.656936</td>\n",
              "      <td>41.943350</td>\n",
              "      <td>-87.670668</td>\n",
              "      <td>casual</td>\n",
              "    </tr>\n",
              "    <tr>\n",
              "      <th>5755691</th>\n",
              "      <td>4AAC03D1438E97CA</td>\n",
              "      <td>classic_bike</td>\n",
              "      <td>2022-10-15 09:34:11</td>\n",
              "      <td>2022-10-15 10:03:21</td>\n",
              "      <td>Sedgwick St &amp; North Ave</td>\n",
              "      <td>TA1307000038</td>\n",
              "      <td>Wabash Ave &amp; Grand Ave</td>\n",
              "      <td>TA1307000117</td>\n",
              "      <td>41.911386</td>\n",
              "      <td>-87.638677</td>\n",
              "      <td>41.891466</td>\n",
              "      <td>-87.626761</td>\n",
              "      <td>casual</td>\n",
              "    </tr>\n",
              "    <tr>\n",
              "      <th>5755692</th>\n",
              "      <td>8E6F3F29785E5D40</td>\n",
              "      <td>classic_bike</td>\n",
              "      <td>2022-10-09 10:21:34</td>\n",
              "      <td>2022-10-09 10:43:45</td>\n",
              "      <td>Sedgwick St &amp; North Ave</td>\n",
              "      <td>TA1307000038</td>\n",
              "      <td>Damen Ave &amp; Clybourn Ave</td>\n",
              "      <td>13271</td>\n",
              "      <td>41.911386</td>\n",
              "      <td>-87.638677</td>\n",
              "      <td>41.931931</td>\n",
              "      <td>-87.677856</td>\n",
              "      <td>member</td>\n",
              "    </tr>\n",
              "    <tr>\n",
              "      <th>5755693</th>\n",
              "      <td>8D14CBE672431920</td>\n",
              "      <td>docked_bike</td>\n",
              "      <td>2022-10-22 13:17:13</td>\n",
              "      <td>2022-10-22 13:46:14</td>\n",
              "      <td>Clark St &amp; Armitage Ave</td>\n",
              "      <td>13146</td>\n",
              "      <td>Wabash Ave &amp; Grand Ave</td>\n",
              "      <td>TA1307000117</td>\n",
              "      <td>41.918306</td>\n",
              "      <td>-87.636282</td>\n",
              "      <td>41.891466</td>\n",
              "      <td>-87.626761</td>\n",
              "      <td>casual</td>\n",
              "    </tr>\n",
              "  </tbody>\n",
              "</table>\n",
              "<p>5755694 rows × 13 columns</p>\n",
              "</div>\n",
              "      <button class=\"colab-df-convert\" onclick=\"convertToInteractive('df-f56d4cc5-1937-4b14-8358-985115019ca5')\"\n",
              "              title=\"Convert this dataframe to an interactive table.\"\n",
              "              style=\"display:none;\">\n",
              "        \n",
              "  <svg xmlns=\"http://www.w3.org/2000/svg\" height=\"24px\"viewBox=\"0 0 24 24\"\n",
              "       width=\"24px\">\n",
              "    <path d=\"M0 0h24v24H0V0z\" fill=\"none\"/>\n",
              "    <path d=\"M18.56 5.44l.94 2.06.94-2.06 2.06-.94-2.06-.94-.94-2.06-.94 2.06-2.06.94zm-11 1L8.5 8.5l.94-2.06 2.06-.94-2.06-.94L8.5 2.5l-.94 2.06-2.06.94zm10 10l.94 2.06.94-2.06 2.06-.94-2.06-.94-.94-2.06-.94 2.06-2.06.94z\"/><path d=\"M17.41 7.96l-1.37-1.37c-.4-.4-.92-.59-1.43-.59-.52 0-1.04.2-1.43.59L10.3 9.45l-7.72 7.72c-.78.78-.78 2.05 0 2.83L4 21.41c.39.39.9.59 1.41.59.51 0 1.02-.2 1.41-.59l7.78-7.78 2.81-2.81c.8-.78.8-2.07 0-2.86zM5.41 20L4 18.59l7.72-7.72 1.47 1.35L5.41 20z\"/>\n",
              "  </svg>\n",
              "      </button>\n",
              "      \n",
              "  <style>\n",
              "    .colab-df-container {\n",
              "      display:flex;\n",
              "      flex-wrap:wrap;\n",
              "      gap: 12px;\n",
              "    }\n",
              "\n",
              "    .colab-df-convert {\n",
              "      background-color: #E8F0FE;\n",
              "      border: none;\n",
              "      border-radius: 50%;\n",
              "      cursor: pointer;\n",
              "      display: none;\n",
              "      fill: #1967D2;\n",
              "      height: 32px;\n",
              "      padding: 0 0 0 0;\n",
              "      width: 32px;\n",
              "    }\n",
              "\n",
              "    .colab-df-convert:hover {\n",
              "      background-color: #E2EBFA;\n",
              "      box-shadow: 0px 1px 2px rgba(60, 64, 67, 0.3), 0px 1px 3px 1px rgba(60, 64, 67, 0.15);\n",
              "      fill: #174EA6;\n",
              "    }\n",
              "\n",
              "    [theme=dark] .colab-df-convert {\n",
              "      background-color: #3B4455;\n",
              "      fill: #D2E3FC;\n",
              "    }\n",
              "\n",
              "    [theme=dark] .colab-df-convert:hover {\n",
              "      background-color: #434B5C;\n",
              "      box-shadow: 0px 1px 3px 1px rgba(0, 0, 0, 0.15);\n",
              "      filter: drop-shadow(0px 1px 2px rgba(0, 0, 0, 0.3));\n",
              "      fill: #FFFFFF;\n",
              "    }\n",
              "  </style>\n",
              "\n",
              "      <script>\n",
              "        const buttonEl =\n",
              "          document.querySelector('#df-f56d4cc5-1937-4b14-8358-985115019ca5 button.colab-df-convert');\n",
              "        buttonEl.style.display =\n",
              "          google.colab.kernel.accessAllowed ? 'block' : 'none';\n",
              "\n",
              "        async function convertToInteractive(key) {\n",
              "          const element = document.querySelector('#df-f56d4cc5-1937-4b14-8358-985115019ca5');\n",
              "          const dataTable =\n",
              "            await google.colab.kernel.invokeFunction('convertToInteractive',\n",
              "                                                     [key], {});\n",
              "          if (!dataTable) return;\n",
              "\n",
              "          const docLinkHtml = 'Like what you see? Visit the ' +\n",
              "            '<a target=\"_blank\" href=https://colab.research.google.com/notebooks/data_table.ipynb>data table notebook</a>'\n",
              "            + ' to learn more about interactive tables.';\n",
              "          element.innerHTML = '';\n",
              "          dataTable['output_type'] = 'display_data';\n",
              "          await google.colab.output.renderOutput(dataTable, element);\n",
              "          const docLink = document.createElement('div');\n",
              "          docLink.innerHTML = docLinkHtml;\n",
              "          element.appendChild(docLink);\n",
              "        }\n",
              "      </script>\n",
              "    </div>\n",
              "  </div>\n",
              "  "
            ]
          },
          "metadata": {},
          "execution_count": 47
        }
      ]
    },
    {
      "cell_type": "markdown",
      "source": [
        "start_station and end_staion seem to have many **null** but the lat and lng doesn't have any problem so I think I don't have to delete it out "
      ],
      "metadata": {
        "id": "qBDf_elJZ4VP"
      }
    },
    {
      "cell_type": "markdown",
      "source": [
        "Next let's check the type of all attributes"
      ],
      "metadata": {
        "id": "V_yD4VmBalD-"
      }
    },
    {
      "cell_type": "code",
      "source": [
        "print(all_data.dtypes)"
      ],
      "metadata": {
        "colab": {
          "base_uri": "https://localhost:8080/"
        },
        "id": "AbmKBS4SatTs",
        "outputId": "c7170305-c9f6-4c59-e386-f32524f2a85c"
      },
      "execution_count": null,
      "outputs": [
        {
          "output_type": "stream",
          "name": "stdout",
          "text": [
            "ride_id                object\n",
            "rideable_type          object\n",
            "started_at             object\n",
            "ended_at               object\n",
            "start_station_name     object\n",
            "start_station_id       object\n",
            "end_station_name       object\n",
            "end_station_id         object\n",
            "start_lat             float64\n",
            "start_lng             float64\n",
            "end_lat               float64\n",
            "end_lng               float64\n",
            "member_casual          object\n",
            "dtype: object\n"
          ]
        }
      ]
    },
    {
      "cell_type": "markdown",
      "source": [
        "\n",
        "\n",
        "---\n",
        "\n",
        "\n",
        "start_at and end_at types is object but we want it to be datetime\n",
        "\n",
        "then we add some coloumn for analysis"
      ],
      "metadata": {
        "id": "sgDMMmFSbBAn"
      }
    },
    {
      "cell_type": "code",
      "source": [
        "all_data[\"started_at\"] = pd.to_datetime(all_data[\"started_at\"],format = \"%Y-%m-%d %H:%M:%S\")\n",
        "all_data[\"ended_at\"] = pd.to_datetime(all_data[\"ended_at\"],format = \"%Y-%m-%d %H:%M:%S\")\n",
        "all_data[\"ride_length\"] = (all_data[\"ended_at\"] - all_data[\"started_at\"]).astype('timedelta64[m]')\n",
        "all_data[\"day_of_week\"] = all_data[\"started_at\"].dt.day_name()\n",
        "all_data[\"month\"] = all_data[\"started_at\"].dt.to_period('M')\n",
        "all_data[\"start_hour\"] = all_data[\"started_at\"].dt.hour\n",
        "all_data.dtypes"
      ],
      "metadata": {
        "colab": {
          "base_uri": "https://localhost:8080/"
        },
        "id": "UDNqDpkTccrb",
        "outputId": "8630d57a-7eff-4a25-91d2-d3eb8c27538c"
      },
      "execution_count": 6,
      "outputs": [
        {
          "output_type": "execute_result",
          "data": {
            "text/plain": [
              "ride_id                       object\n",
              "rideable_type                 object\n",
              "started_at            datetime64[ns]\n",
              "ended_at              datetime64[ns]\n",
              "start_station_name            object\n",
              "start_station_id              object\n",
              "end_station_name              object\n",
              "end_station_id                object\n",
              "start_lat                    float64\n",
              "start_lng                    float64\n",
              "end_lat                      float64\n",
              "end_lng                      float64\n",
              "member_casual                 object\n",
              "ride_length                  float64\n",
              "day_of_week                   object\n",
              "month                      period[M]\n",
              "start_hour                     int64\n",
              "dtype: object"
            ]
          },
          "metadata": {},
          "execution_count": 6
        }
      ]
    },
    {
      "cell_type": "markdown",
      "source": [
        "\n",
        "\n",
        "---\n",
        "\n",
        "\n",
        "Okay, let's start with basic information \n",
        "\n",
        "plot the pie chart to see the different between the member and casual rides "
      ],
      "metadata": {
        "id": "l-HIfASmcj8x"
      }
    },
    {
      "cell_type": "code",
      "source": [
        "all_data.groupby(\"member_casual\").count().reindex([\"member\",\"casual\"]).plot(kind='pie', y='ride_id',autopct='%1.0f%%',title='Number of rides in 12 months')"
      ],
      "metadata": {
        "colab": {
          "base_uri": "https://localhost:8080/",
          "height": 281
        },
        "id": "UFvPsORei83e",
        "outputId": "fed2e323-428e-4dcb-93e3-0219d4cd3eb6"
      },
      "execution_count": 17,
      "outputs": [
        {
          "output_type": "execute_result",
          "data": {
            "text/plain": [
              "<matplotlib.axes._subplots.AxesSubplot at 0x7f97529a8690>"
            ]
          },
          "metadata": {},
          "execution_count": 17
        },
        {
          "output_type": "display_data",
          "data": {
            "text/plain": [
              "<Figure size 432x288 with 1 Axes>"
            ],
            "image/png": "[encoded data removed]"
          },
          "metadata": {}
        }
      ]
    },
    {
      "cell_type": "markdown",
      "source": [
        "The number of member rides are more than the casual rides in this 12 month"
      ],
      "metadata": {
        "id": "zMMGI4CHdqPa"
      }
    },
    {
      "cell_type": "markdown",
      "source": [
        "\n",
        "\n",
        "---\n",
        "\n",
        "\n",
        "Next let's check the number of rides in each month"
      ],
      "metadata": {
        "id": "2T1JRH6YeKs1"
      }
    },
    {
      "cell_type": "code",
      "source": [
        "fig, ax = plt.subplots(figsize=(24, 10))\n",
        "x = np.arange(len(all_data.month.unique()))\n",
        "bar_width = 0.4\n",
        "\n",
        "ax.set_ylabel(\"Number of rides\")\n",
        "ax.set_title(\"Number of rides in each month\")\n",
        "ax.set_xlabel(\"Month\")\n",
        "ax.set_xticks(x + bar_width / 2)\n",
        "ax.set_xticklabels(all_data.month.unique())\n",
        "\n",
        "b1 = ax.bar(x, all_data.loc[all_data['member_casual'] == 'member',[\"ride_id\",\"month\"]].groupby(\"month\").count()[\"ride_id\"],width=bar_width,label='Member')\n",
        "b2 = ax.bar(x + bar_width, all_data.loc[all_data['member_casual'] == 'casual',[\"ride_id\",\"month\"]].groupby(\"month\").count()[\"ride_id\"],width=bar_width,label='casual')\n",
        "ax.legend()"
      ],
      "metadata": {
        "colab": {
          "base_uri": "https://localhost:8080/",
          "height": 638
        },
        "id": "XHJAZpXEupGN",
        "outputId": "859ba662-0c12-4eb8-e3d0-4f9e9e21bae7"
      },
      "execution_count": 35,
      "outputs": [
        {
          "output_type": "execute_result",
          "data": {
            "text/plain": [
              "<matplotlib.legend.Legend at 0x7f9745fa03d0>"
            ]
          },
          "metadata": {},
          "execution_count": 35
        },
        {
          "output_type": "display_data",
          "data": {
            "text/plain": [
              "<Figure size 1728x720 with 1 Axes>"
            ],
            "image/png": "[encoded data removed]"
          },
          "metadata": {}
        }
      ]
    },
    {
      "cell_type": "markdown",
      "source": [
        "THe number of rides in January and February is kinda low. **Why?**\n",
        "\n",
        "Maybe the temperature? let's google **the average temperature by each month in chicago** "
      ],
      "metadata": {
        "id": "_3-rANNyfuG-"
      }
    },
    {
      "cell_type": "markdown",
      "source": [
        "Google show us the graph of temperature in chicago each months\n",
        "![chicago.PNG](data:image/png;base64,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)"
      ],
      "metadata": {
        "id": "ug3stnGEuJH6"
      }
    },
    {
      "cell_type": "markdown",
      "source": [
        "So the temperature accually effect on the number of rides\n",
        "\n",
        "if the temperature is low the number of rides will be low too"
      ],
      "metadata": {
        "id": "SkAW9O5Uu2-h"
      }
    },
    {
      "cell_type": "markdown",
      "source": [
        "\n",
        "\n",
        "---\n",
        "\n",
        "\n",
        "Next the number of rides by day of week "
      ],
      "metadata": {
        "id": "7wAGk9I9g4jf"
      }
    },
    {
      "cell_type": "code",
      "source": [
        "fig, ax = plt.subplots(figsize=(24, 10))\n",
        "x = np.arange(len(all_data.day_of_week.unique()))\n",
        "bar_width = 0.4\n",
        "day_index = [ 'Monday', 'Tuesday', 'Wednesday', 'Thursday', 'Friday', 'Saturday', 'Sunday']\n",
        "\n",
        "ax.set_ylabel(\"Number of rides\")\n",
        "ax.set_title(\"Number of rides in each day\")\n",
        "ax.set_xlabel(\"Days\")\n",
        "ax.set_xticks(x + bar_width / 2)\n",
        "ax.set_xticklabels(day_index)\n",
        "\n",
        "b1 = ax.bar(x, all_data.loc[all_data['member_casual'] == 'member',[\"ride_id\",\"day_of_week\"]].groupby(\"day_of_week\").count()[\"ride_id\"].reindex(day_index),width=bar_width,label='Member')\n",
        "b2 = ax.bar(x + bar_width, all_data.loc[all_data['member_casual'] == 'casual',[\"ride_id\",\"day_of_week\"]].groupby(\"day_of_week\").count()[\"ride_id\"].reindex(day_index),width=bar_width,label='casual')\n",
        "ax.legend()"
      ],
      "metadata": {
        "colab": {
          "base_uri": "https://localhost:8080/",
          "height": 638
        },
        "id": "7OJGLwjbArkA",
        "outputId": "76630355-c7a9-4d5e-abdc-dfe177acc47f"
      },
      "execution_count": 36,
      "outputs": [
        {
          "output_type": "execute_result",
          "data": {
            "text/plain": [
              "<matplotlib.legend.Legend at 0x7f9745eb3750>"
            ]
          },
          "metadata": {},
          "execution_count": 36
        },
        {
          "output_type": "display_data",
          "data": {
            "text/plain": [
              "<Figure size 1728x720 with 1 Axes>"
            ],
            "image/png": "[encoded data removed]"
          },
          "metadata": {}
        }
      ]
    },
    {
      "cell_type": "markdown",
      "source": [
        "we find many interesting information here \n",
        "\n",
        "*   The number of rides of member on weekday is more than the number of member rides on weekend\n",
        "*   The casual rides on weekday is low while the casual rides on weekend is really high\n",
        "*   The casual rides on weekday is less than the member rides\n",
        "*   While the casual rides on weekend is more than the member rides\n",
        "\n",
        "maybe member rider use the bike to work?\n",
        "\n"
      ],
      "metadata": {
        "id": "mYkIAtzThKW6"
      }
    },
    {
      "cell_type": "markdown",
      "source": [
        "\n",
        "\n",
        "---\n",
        "\n",
        "\n",
        "let's check more information about the number of rides each hour "
      ],
      "metadata": {
        "id": "lFPnDMGOiWEX"
      }
    },
    {
      "cell_type": "code",
      "source": [
        "all_data_each_hour = all_data.loc[:,[\"ride_id\",\"rideable_type\",\"member_casual\",\"month\",\"day_of_week\",\"ride_length\",\"start_hour\"]]"
      ],
      "metadata": {
        "id": "0uYQ1P1QhK0z"
      },
      "execution_count": 10,
      "outputs": []
    },
    {
      "cell_type": "code",
      "source": [
        "member_rides_by_hour = all_data_each_hour.loc[all_data_each_hour[\"member_casual\"] == \"member\",[\"ride_id\",\"start_hour\"]].groupby(\"start_hour\").count()\n",
        "casual_rides_by_hour = all_data_each_hour.loc[all_data_each_hour[\"member_casual\"] == \"casual\",[\"ride_id\",\"start_hour\"]].groupby(\"start_hour\").count()\n",
        "\n",
        "fig, ax = plt.subplots(figsize=(24, 10))\n",
        "x = np.arange(len(all_data_each_hour.start_hour.unique()))\n",
        "bar_width = 0.4\n",
        "\n",
        "ax.set_ylabel(\"Number of rides\")\n",
        "ax.set_title(\"Number of rides in each hours\")\n",
        "ax.set_xlabel(\"hours\")\n",
        "ax.set_xticks(x + bar_width / 2)\n",
        "ax.set_xticklabels(np.sort(all_data_each_hour.start_hour.unique()))\n",
        "\n",
        "b1 = ax.bar(x, member_rides_by_hour[\"ride_id\"],width=bar_width,label='Member')\n",
        "b2 = ax.bar(x + bar_width, casual_rides_by_hour[\"ride_id\"],width=bar_width,label='casual')\n",
        "ax.legend()"
      ],
      "metadata": {
        "colab": {
          "base_uri": "https://localhost:8080/",
          "height": 638
        },
        "id": "8HucGCYuNYb7",
        "outputId": "75d17552-72ca-440e-8fcb-c6d0155a9dc2"
      },
      "execution_count": 37,
      "outputs": [
        {
          "output_type": "execute_result",
          "data": {
            "text/plain": [
              "<matplotlib.legend.Legend at 0x7f9745d47450>"
            ]
          },
          "metadata": {},
          "execution_count": 37
        },
        {
          "output_type": "display_data",
          "data": {
            "text/plain": [
              "<Figure size 1728x720 with 1 Axes>"
            ],
            "image/png": "[encoded data removed]"
          },
          "metadata": {}
        }
      ]
    },
    {
      "cell_type": "markdown",
      "source": [
        "\n",
        "\n",
        "*   We could see that member rides peak at 7.00-8.00  and 16.00-18.00c it might be that member usually use bike to work\n",
        "*   casual rides peak at only 16.00-18.00 might be people that does not use bike to work\n",
        "\n"
      ],
      "metadata": {
        "id": "OVtSGU2WQ0kS"
      }
    },
    {
      "cell_type": "markdown",
      "source": [
        "We might get more information from each day of week"
      ],
      "metadata": {
        "id": "PDfIoQLSRXaM"
      }
    },
    {
      "cell_type": "code",
      "source": [
        "all_data_each_day = all_data_each_hour.loc[:,[\"ride_id\",\"start_hour\",\"day_of_week\",\"member_casual\"]]\n",
        "all_data_each_day"
      ],
      "metadata": {
        "colab": {
          "base_uri": "https://localhost:8080/",
          "height": 424
        },
        "id": "U9V2jkTDRt--",
        "outputId": "9beca8fc-76ac-433c-bb65-9392c19950d2"
      },
      "execution_count": 11,
      "outputs": [
        {
          "output_type": "execute_result",
          "data": {
            "text/plain": [
              "                  ride_id  start_hour day_of_week member_casual\n",
              "0        7C00A93E10556E47          13    Saturday        casual\n",
              "1        90854840DFD508BA          13    Saturday        casual\n",
              "2        0A7D10CDD144061C          22      Friday        casual\n",
              "3        2F3BE33085BCFF02           9    Saturday        casual\n",
              "4        D67B4781A19928D4          19      Friday        casual\n",
              "...                   ...         ...         ...           ...\n",
              "5755689  BC3BFA659C9AB6F1           1      Sunday        casual\n",
              "5755690  ACD65450291CF95F           1      Sunday        casual\n",
              "5755691  4AAC03D1438E97CA           9    Saturday        casual\n",
              "5755692  8E6F3F29785E5D40          10      Sunday        member\n",
              "5755693  8D14CBE672431920          13    Saturday        casual\n",
              "\n",
              "[5755694 rows x 4 columns]"
            ],
            "text/html": [
              "\n",
              "  <div id=\"df-756e9c8c-0b2b-410d-8045-77773f64e093\">\n",
              "    <div class=\"colab-df-container\">\n",
              "      <div>\n",
              "<style scoped>\n",
              "    .dataframe tbody tr th:only-of-type {\n",
              "        vertical-align: middle;\n",
              "    }\n",
              "\n",
              "    .dataframe tbody tr th {\n",
              "        vertical-align: top;\n",
              "    }\n",
              "\n",
              "    .dataframe thead th {\n",
              "        text-align: right;\n",
              "    }\n",
              "</style>\n",
              "<table border=\"1\" class=\"dataframe\">\n",
              "  <thead>\n",
              "    <tr style=\"text-align: right;\">\n",
              "      <th></th>\n",
              "      <th>ride_id</th>\n",
              "      <th>start_hour</th>\n",
              "      <th>day_of_week</th>\n",
              "      <th>member_casual</th>\n",
              "    </tr>\n",
              "  </thead>\n",
              "  <tbody>\n",
              "    <tr>\n",
              "      <th>0</th>\n",
              "      <td>7C00A93E10556E47</td>\n",
              "      <td>13</td>\n",
              "      <td>Saturday</td>\n",
              "      <td>casual</td>\n",
              "    </tr>\n",
              "    <tr>\n",
              "      <th>1</th>\n",
              "      <td>90854840DFD508BA</td>\n",
              "      <td>13</td>\n",
              "      <td>Saturday</td>\n",
              "      <td>casual</td>\n",
              "    </tr>\n",
              "    <tr>\n",
              "      <th>2</th>\n",
              "      <td>0A7D10CDD144061C</td>\n",
              "      <td>22</td>\n",
              "      <td>Friday</td>\n",
              "      <td>casual</td>\n",
              "    </tr>\n",
              "    <tr>\n",
              "      <th>3</th>\n",
              "      <td>2F3BE33085BCFF02</td>\n",
              "      <td>9</td>\n",
              "      <td>Saturday</td>\n",
              "      <td>casual</td>\n",
              "    </tr>\n",
              "    <tr>\n",
              "      <th>4</th>\n",
              "      <td>D67B4781A19928D4</td>\n",
              "      <td>19</td>\n",
              "      <td>Friday</td>\n",
              "      <td>casual</td>\n",
              "    </tr>\n",
              "    <tr>\n",
              "      <th>...</th>\n",
              "      <td>...</td>\n",
              "      <td>...</td>\n",
              "      <td>...</td>\n",
              "      <td>...</td>\n",
              "    </tr>\n",
              "    <tr>\n",
              "      <th>5755689</th>\n",
              "      <td>BC3BFA659C9AB6F1</td>\n",
              "      <td>1</td>\n",
              "      <td>Sunday</td>\n",
              "      <td>casual</td>\n",
              "    </tr>\n",
              "    <tr>\n",
              "      <th>5755690</th>\n",
              "      <td>ACD65450291CF95F</td>\n",
              "      <td>1</td>\n",
              "      <td>Sunday</td>\n",
              "      <td>casual</td>\n",
              "    </tr>\n",
              "    <tr>\n",
              "      <th>5755691</th>\n",
              "      <td>4AAC03D1438E97CA</td>\n",
              "      <td>9</td>\n",
              "      <td>Saturday</td>\n",
              "      <td>casual</td>\n",
              "    </tr>\n",
              "    <tr>\n",
              "      <th>5755692</th>\n",
              "      <td>8E6F3F29785E5D40</td>\n",
              "      <td>10</td>\n",
              "      <td>Sunday</td>\n",
              "      <td>member</td>\n",
              "    </tr>\n",
              "    <tr>\n",
              "      <th>5755693</th>\n",
              "      <td>8D14CBE672431920</td>\n",
              "      <td>13</td>\n",
              "      <td>Saturday</td>\n",
              "      <td>casual</td>\n",
              "    </tr>\n",
              "  </tbody>\n",
              "</table>\n",
              "<p>5755694 rows × 4 columns</p>\n",
              "</div>\n",
              "      <button class=\"colab-df-convert\" onclick=\"convertToInteractive('df-756e9c8c-0b2b-410d-8045-77773f64e093')\"\n",
              "              title=\"Convert this dataframe to an interactive table.\"\n",
              "              style=\"display:none;\">\n",
              "        \n",
              "  <svg xmlns=\"http://www.w3.org/2000/svg\" height=\"24px\"viewBox=\"0 0 24 24\"\n",
              "       width=\"24px\">\n",
              "    <path d=\"M0 0h24v24H0V0z\" fill=\"none\"/>\n",
              "    <path d=\"M18.56 5.44l.94 2.06.94-2.06 2.06-.94-2.06-.94-.94-2.06-.94 2.06-2.06.94zm-11 1L8.5 8.5l.94-2.06 2.06-.94-2.06-.94L8.5 2.5l-.94 2.06-2.06.94zm10 10l.94 2.06.94-2.06 2.06-.94-2.06-.94-.94-2.06-.94 2.06-2.06.94z\"/><path d=\"M17.41 7.96l-1.37-1.37c-.4-.4-.92-.59-1.43-.59-.52 0-1.04.2-1.43.59L10.3 9.45l-7.72 7.72c-.78.78-.78 2.05 0 2.83L4 21.41c.39.39.9.59 1.41.59.51 0 1.02-.2 1.41-.59l7.78-7.78 2.81-2.81c.8-.78.8-2.07 0-2.86zM5.41 20L4 18.59l7.72-7.72 1.47 1.35L5.41 20z\"/>\n",
              "  </svg>\n",
              "      </button>\n",
              "      \n",
              "  <style>\n",
              "    .colab-df-container {\n",
              "      display:flex;\n",
              "      flex-wrap:wrap;\n",
              "      gap: 12px;\n",
              "    }\n",
              "\n",
              "    .colab-df-convert {\n",
              "      background-color: #E8F0FE;\n",
              "      border: none;\n",
              "      border-radius: 50%;\n",
              "      cursor: pointer;\n",
              "      display: none;\n",
              "      fill: #1967D2;\n",
              "      height: 32px;\n",
              "      padding: 0 0 0 0;\n",
              "      width: 32px;\n",
              "    }\n",
              "\n",
              "    .colab-df-convert:hover {\n",
              "      background-color: #E2EBFA;\n",
              "      box-shadow: 0px 1px 2px rgba(60, 64, 67, 0.3), 0px 1px 3px 1px rgba(60, 64, 67, 0.15);\n",
              "      fill: #174EA6;\n",
              "    }\n",
              "\n",
              "    [theme=dark] .colab-df-convert {\n",
              "      background-color: #3B4455;\n",
              "      fill: #D2E3FC;\n",
              "    }\n",
              "\n",
              "    [theme=dark] .colab-df-convert:hover {\n",
              "      background-color: #434B5C;\n",
              "      box-shadow: 0px 1px 3px 1px rgba(0, 0, 0, 0.15);\n",
              "      filter: drop-shadow(0px 1px 2px rgba(0, 0, 0, 0.3));\n",
              "      fill: #FFFFFF;\n",
              "    }\n",
              "  </style>\n",
              "\n",
              "      <script>\n",
              "        const buttonEl =\n",
              "          document.querySelector('#df-756e9c8c-0b2b-410d-8045-77773f64e093 button.colab-df-convert');\n",
              "        buttonEl.style.display =\n",
              "          google.colab.kernel.accessAllowed ? 'block' : 'none';\n",
              "\n",
              "        async function convertToInteractive(key) {\n",
              "          const element = document.querySelector('#df-756e9c8c-0b2b-410d-8045-77773f64e093');\n",
              "          const dataTable =\n",
              "            await google.colab.kernel.invokeFunction('convertToInteractive',\n",
              "                                                     [key], {});\n",
              "          if (!dataTable) return;\n",
              "\n",
              "          const docLinkHtml = 'Like what you see? Visit the ' +\n",
              "            '<a target=\"_blank\" href=https://colab.research.google.com/notebooks/data_table.ipynb>data table notebook</a>'\n",
              "            + ' to learn more about interactive tables.';\n",
              "          element.innerHTML = '';\n",
              "          dataTable['output_type'] = 'display_data';\n",
              "          await google.colab.output.renderOutput(dataTable, element);\n",
              "          const docLink = document.createElement('div');\n",
              "          docLink.innerHTML = docLinkHtml;\n",
              "          element.appendChild(docLink);\n",
              "        }\n",
              "      </script>\n",
              "    </div>\n",
              "  </div>\n",
              "  "
            ]
          },
          "metadata": {},
          "execution_count": 11
        }
      ]
    },
    {
      "cell_type": "markdown",
      "source": [
        "\n",
        "\n",
        "---\n",
        "\n",
        "\n",
        "**Monday**"
      ],
      "metadata": {
        "id": "AG1me8KQVqlS"
      }
    },
    {
      "cell_type": "code",
      "source": [
        "all_data_monday = all_data_each_day.loc[all_data_each_day[\"day_of_week\"] == \"Monday\",[\"ride_id\",\"start_hour\",\"member_casual\"]]\n",
        "member_rides_by_hour_monday = all_data_monday.loc[all_data_monday[\"member_casual\"] == \"member\",[\"ride_id\",\"start_hour\"]].groupby(\"start_hour\").count()\n",
        "casual_rides_by_hour_monday = all_data_monday.loc[all_data_monday[\"member_casual\"] == \"casual\",[\"ride_id\",\"start_hour\"]].groupby(\"start_hour\").count()\n",
        "\n",
        "fig, ax = plt.subplots(figsize=(24, 10))\n",
        "x = np.arange(len(all_data_each_hour.start_hour.unique()))\n",
        "bar_width = 0.4\n",
        "\n",
        "ax.set_ylabel(\"Number of rides\")\n",
        "ax.set_title(\"Number of rides in each hours on Monday\")\n",
        "ax.set_xlabel(\"hours\")\n",
        "ax.set_xticks(x + bar_width / 2)\n",
        "ax.set_xticklabels(np.sort(all_data_each_hour.start_hour.unique()))\n",
        "\n",
        "b1 = ax.bar(x, member_rides_by_hour_monday[\"ride_id\"],width=bar_width,label='Member')\n",
        "b2 = ax.bar(x + bar_width, casual_rides_by_hour_monday[\"ride_id\"],width=bar_width,label='casual')\n",
        "ax.legend()"
      ],
      "metadata": {
        "colab": {
          "base_uri": "https://localhost:8080/",
          "height": 638
        },
        "id": "FJvqxllPTe8b",
        "outputId": "17aebe27-851f-4aa8-d24b-433ef1bcb0b8"
      },
      "execution_count": 38,
      "outputs": [
        {
          "output_type": "execute_result",
          "data": {
            "text/plain": [
              "<matplotlib.legend.Legend at 0x7f9745fb1d10>"
            ]
          },
          "metadata": {},
          "execution_count": 38
        },
        {
          "output_type": "display_data",
          "data": {
            "text/plain": [
              "<Figure size 1728x720 with 1 Axes>"
            ],
            "image/png": "[encoded data removed]"
          },
          "metadata": {}
        }
      ]
    },
    {
      "cell_type": "markdown",
      "source": [
        "\n",
        "\n",
        "---\n",
        "\n",
        "\n",
        "**Tuesday**"
      ],
      "metadata": {
        "id": "rVoi7ke4cG76"
      }
    },
    {
      "cell_type": "code",
      "source": [
        "all_data_tuesday = all_data_each_day.loc[all_data_each_day[\"day_of_week\"] == \"Tuesday\",[\"ride_id\",\"start_hour\",\"member_casual\"]]\n",
        "member_rides_by_hour_tuesday = all_data_tuesday.loc[all_data_tuesday[\"member_casual\"] == \"member\",[\"ride_id\",\"start_hour\"]].groupby(\"start_hour\").count()\n",
        "casual_rides_by_hour_tuesday = all_data_tuesday.loc[all_data_tuesday[\"member_casual\"] == \"casual\",[\"ride_id\",\"start_hour\"]].groupby(\"start_hour\").count()\n",
        "\n",
        "fig, ax = plt.subplots(figsize=(24, 10))\n",
        "x = np.arange(len(all_data_each_hour.start_hour.unique()))\n",
        "bar_width = 0.4\n",
        "\n",
        "ax.set_ylabel(\"Number of rides\")\n",
        "ax.set_title(\"Number of rides in each hours on Tuesday\")\n",
        "ax.set_xlabel(\"hours\")\n",
        "ax.set_xticks(x + bar_width / 2)\n",
        "ax.set_xticklabels(np.sort(all_data_each_hour.start_hour.unique()))\n",
        "\n",
        "b1 = ax.bar(x, member_rides_by_hour_tuesday[\"ride_id\"],width=bar_width,label='Member')\n",
        "b2 = ax.bar(x + bar_width, casual_rides_by_hour_tuesday[\"ride_id\"],width=bar_width,label='casual')\n",
        "ax.legend()"
      ],
      "metadata": {
        "colab": {
          "base_uri": "https://localhost:8080/",
          "height": 638
        },
        "id": "0dqbWCt2cL6B",
        "outputId": "780b3fe4-ffe9-4b8a-83b2-a0e52f5fbbb3"
      },
      "execution_count": 39,
      "outputs": [
        {
          "output_type": "execute_result",
          "data": {
            "text/plain": [
              "<matplotlib.legend.Legend at 0x7f9745bae9d0>"
            ]
          },
          "metadata": {},
          "execution_count": 39
        },
        {
          "output_type": "display_data",
          "data": {
            "text/plain": [
              "<Figure size 1728x720 with 1 Axes>"
            ],
            "image/png": "[encoded data removed]"
          },
          "metadata": {}
        }
      ]
    },
    {
      "cell_type": "markdown",
      "source": [
        "\n",
        "\n",
        "---\n",
        "\n",
        "\n",
        "**Wednesday**"
      ],
      "metadata": {
        "id": "b1kG5BAle4mu"
      }
    },
    {
      "cell_type": "code",
      "source": [
        "all_data_wednesday = all_data_each_day.loc[all_data_each_day[\"day_of_week\"] == \"Wednesday\",[\"ride_id\",\"start_hour\",\"member_casual\"]]\n",
        "member_rides_by_hour_wednesday = all_data_wednesday.loc[all_data_wednesday[\"member_casual\"] == \"member\",[\"ride_id\",\"start_hour\"]].groupby(\"start_hour\").count()\n",
        "casual_rides_by_hour_wednesday = all_data_wednesday.loc[all_data_wednesday[\"member_casual\"] == \"casual\",[\"ride_id\",\"start_hour\"]].groupby(\"start_hour\").count()\n",
        "\n",
        "fig, ax = plt.subplots(figsize=(24, 10))\n",
        "x = np.arange(len(all_data_each_hour.start_hour.unique()))\n",
        "bar_width = 0.4\n",
        "\n",
        "ax.set_ylabel(\"Number of rides\")\n",
        "ax.set_title(\"Number of rides in each hours on Wednesday\")\n",
        "ax.set_xlabel(\"hours\")\n",
        "ax.set_xticks(x + bar_width / 2)\n",
        "ax.set_xticklabels(np.sort(all_data_each_hour.start_hour.unique()))\n",
        "\n",
        "b1 = ax.bar(x, member_rides_by_hour_wednesday[\"ride_id\"],width=bar_width,label='Member')\n",
        "b2 = ax.bar(x + bar_width, casual_rides_by_hour_wednesday[\"ride_id\"],width=bar_width,label='casual')\n",
        "ax.legend()"
      ],
      "metadata": {
        "colab": {
          "base_uri": "https://localhost:8080/",
          "height": 638
        },
        "id": "dbWAph7ie8Me",
        "outputId": "5d724a83-4c7b-42e4-dd53-05c702c72954"
      },
      "execution_count": 40,
      "outputs": [
        {
          "output_type": "execute_result",
          "data": {
            "text/plain": [
              "<matplotlib.legend.Legend at 0x7f9745a606d0>"
            ]
          },
          "metadata": {},
          "execution_count": 40
        },
        {
          "output_type": "display_data",
          "data": {
            "text/plain": [
              "<Figure size 1728x720 with 1 Axes>"
            ],
            "image/png": "[encoded data removed]"
          },
          "metadata": {}
        }
      ]
    },
    {
      "cell_type": "markdown",
      "source": [
        "\n",
        "\n",
        "---\n",
        "\n",
        "\n",
        "**Thursday**"
      ],
      "metadata": {
        "id": "KnZFtF7IgnUN"
      }
    },
    {
      "cell_type": "code",
      "source": [
        "all_data_thursday = all_data_each_day.loc[all_data_each_day[\"day_of_week\"] == \"Thursday\",[\"ride_id\",\"start_hour\",\"member_casual\"]]\n",
        "member_rides_by_hour_thursday = all_data_thursday.loc[all_data_thursday[\"member_casual\"] == \"member\",[\"ride_id\",\"start_hour\"]].groupby(\"start_hour\").count()\n",
        "casual_rides_by_hour_thursday = all_data_thursday.loc[all_data_thursday[\"member_casual\"] == \"casual\",[\"ride_id\",\"start_hour\"]].groupby(\"start_hour\").count()\n",
        "\n",
        "fig, ax = plt.subplots(figsize=(24, 10))\n",
        "x = np.arange(len(all_data_each_hour.start_hour.unique()))\n",
        "bar_width = 0.4\n",
        "\n",
        "ax.set_ylabel(\"Number of rides\")\n",
        "ax.set_title(\"Number of rides in each hours on Thursday\")\n",
        "ax.set_xlabel(\"hours\")\n",
        "ax.set_xticks(x + bar_width / 2)\n",
        "ax.set_xticklabels(np.sort(all_data_each_hour.start_hour.unique()))\n",
        "\n",
        "b1 = ax.bar(x, member_rides_by_hour_thursday[\"ride_id\"],width=bar_width,label='Member')\n",
        "b2 = ax.bar(x + bar_width, casual_rides_by_hour_thursday[\"ride_id\"],width=bar_width,label='casual')\n",
        "ax.legend()"
      ],
      "metadata": {
        "colab": {
          "base_uri": "https://localhost:8080/",
          "height": 638
        },
        "id": "ub64HpMogr3F",
        "outputId": "0014d908-f222-45b1-9f7c-c9fd8ee6e393"
      },
      "execution_count": 41,
      "outputs": [
        {
          "output_type": "execute_result",
          "data": {
            "text/plain": [
              "<matplotlib.legend.Legend at 0x7f97459053d0>"
            ]
          },
          "metadata": {},
          "execution_count": 41
        },
        {
          "output_type": "display_data",
          "data": {
            "text/plain": [
              "<Figure size 1728x720 with 1 Axes>"
            ],
            "image/png": "[encoded data removed]"
          },
          "metadata": {}
        }
      ]
    },
    {
      "cell_type": "markdown",
      "source": [
        "\n",
        "\n",
        "---\n",
        "\n",
        "\n",
        "**Friday**"
      ],
      "metadata": {
        "id": "lR1PtKgdhBGu"
      }
    },
    {
      "cell_type": "code",
      "source": [
        "all_data_friday = all_data_each_day.loc[all_data_each_day[\"day_of_week\"] == \"Friday\",[\"ride_id\",\"start_hour\",\"member_casual\"]]\n",
        "member_rides_by_hour_friday = all_data_friday.loc[all_data_friday[\"member_casual\"] == \"member\",[\"ride_id\",\"start_hour\"]].groupby(\"start_hour\").count()\n",
        "casual_rides_by_hour_friday = all_data_friday.loc[all_data_friday[\"member_casual\"] == \"casual\",[\"ride_id\",\"start_hour\"]].groupby(\"start_hour\").count()\n",
        "\n",
        "fig, ax = plt.subplots(figsize=(24, 10))\n",
        "x = np.arange(len(all_data_each_hour.start_hour.unique()))\n",
        "bar_width = 0.4\n",
        "\n",
        "ax.set_ylabel(\"Number of rides\")\n",
        "ax.set_title(\"Number of rides in each hours on Friday\")\n",
        "ax.set_xlabel(\"hours\")\n",
        "ax.set_xticks(x + bar_width / 2)\n",
        "ax.set_xticklabels(np.sort(all_data_each_hour.start_hour.unique()))\n",
        "\n",
        "b1 = ax.bar(x, member_rides_by_hour_friday[\"ride_id\"],width=bar_width,label='Member')\n",
        "b2 = ax.bar(x + bar_width, casual_rides_by_hour_friday[\"ride_id\"],width=bar_width,label='casual')\n",
        "ax.legend()"
      ],
      "metadata": {
        "colab": {
          "base_uri": "https://localhost:8080/",
          "height": 638
        },
        "id": "gRFOiB0EhDMu",
        "outputId": "a2c32c93-3945-4c3a-afe3-468dc5b64a41"
      },
      "execution_count": 42,
      "outputs": [
        {
          "output_type": "execute_result",
          "data": {
            "text/plain": [
              "<matplotlib.legend.Legend at 0x7f9745820d50>"
            ]
          },
          "metadata": {},
          "execution_count": 42
        },
        {
          "output_type": "display_data",
          "data": {
            "text/plain": [
              "<Figure size 1728x720 with 1 Axes>"
            ],
            "image/png": "[encoded data removed]"
          },
          "metadata": {}
        }
      ]
    },
    {
      "cell_type": "markdown",
      "source": [
        "\n",
        "\n",
        "---\n",
        "\n",
        "\n",
        "**Saturday**"
      ],
      "metadata": {
        "id": "MjwYAMPyhR4N"
      }
    },
    {
      "cell_type": "code",
      "source": [
        "all_data_saturday = all_data_each_day.loc[all_data_each_day[\"day_of_week\"] == \"Saturday\",[\"ride_id\",\"start_hour\",\"member_casual\"]]\n",
        "member_rides_by_hour_saturday = all_data_saturday.loc[all_data_saturday[\"member_casual\"] == \"member\",[\"ride_id\",\"start_hour\"]].groupby(\"start_hour\").count()\n",
        "casual_rides_by_hour_saturday = all_data_saturday.loc[all_data_saturday[\"member_casual\"] == \"casual\",[\"ride_id\",\"start_hour\"]].groupby(\"start_hour\").count()\n",
        "\n",
        "fig, ax = plt.subplots(figsize=(24, 10))\n",
        "x = np.arange(len(all_data_each_hour.start_hour.unique()))\n",
        "bar_width = 0.4\n",
        "\n",
        "ax.set_ylabel(\"Number of rides\")\n",
        "ax.set_title(\"Number of rides in each hours on Saturday\")\n",
        "ax.set_xlabel(\"hours\")\n",
        "ax.set_xticks(x + bar_width / 2)\n",
        "ax.set_xticklabels(np.sort(all_data_each_hour.start_hour.unique()))\n",
        "\n",
        "b1 = ax.bar(x, member_rides_by_hour_saturday[\"ride_id\"],width=bar_width,label='Member')\n",
        "b2 = ax.bar(x + bar_width, casual_rides_by_hour_saturday[\"ride_id\"],width=bar_width,label='casual')\n",
        "ax.legend()"
      ],
      "metadata": {
        "colab": {
          "base_uri": "https://localhost:8080/",
          "height": 638
        },
        "id": "kGArEbLEhY_V",
        "outputId": "789b7815-b32e-416a-a973-095a27b67764"
      },
      "execution_count": 43,
      "outputs": [
        {
          "output_type": "execute_result",
          "data": {
            "text/plain": [
              "<matplotlib.legend.Legend at 0x7f97456cc210>"
            ]
          },
          "metadata": {},
          "execution_count": 43
        },
        {
          "output_type": "display_data",
          "data": {
            "text/plain": [
              "<Figure size 1728x720 with 1 Axes>"
            ],
            "image/png": "[encoded data removed]"
          },
          "metadata": {}
        }
      ]
    },
    {
      "cell_type": "markdown",
      "source": [
        "\n",
        "\n",
        "---\n",
        "\n",
        "\n",
        "**Sunday**"
      ],
      "metadata": {
        "id": "GDBZUEuQhp6M"
      }
    },
    {
      "cell_type": "code",
      "source": [
        "all_data_sunday = all_data_each_day.loc[all_data_each_day[\"day_of_week\"] == \"Sunday\",[\"ride_id\",\"start_hour\",\"member_casual\"]]\n",
        "member_rides_by_hour_sunday = all_data_sunday.loc[all_data_sunday[\"member_casual\"] == \"member\",[\"ride_id\",\"start_hour\"]].groupby(\"start_hour\").count()\n",
        "casual_rides_by_hour_sunday = all_data_sunday.loc[all_data_sunday[\"member_casual\"] == \"casual\",[\"ride_id\",\"start_hour\"]].groupby(\"start_hour\").count()\n",
        "\n",
        "fig, ax = plt.subplots(figsize=(24, 10))\n",
        "x = np.arange(len(all_data_each_hour.start_hour.unique()))\n",
        "bar_width = 0.4\n",
        "\n",
        "ax.set_ylabel(\"Number of rides\")\n",
        "ax.set_title(\"Number of rides in each hours on Sunday\")\n",
        "ax.set_xlabel(\"hours\")\n",
        "ax.set_xticks(x + bar_width / 2)\n",
        "ax.set_xticklabels(np.sort(all_data_each_hour.start_hour.unique()))\n",
        "\n",
        "b1 = ax.bar(x, member_rides_by_hour_sunday[\"ride_id\"],width=bar_width,label='Member')\n",
        "b2 = ax.bar(x + bar_width, casual_rides_by_hour_sunday[\"ride_id\"],width=bar_width,label='casual')\n",
        "ax.legend()"
      ],
      "metadata": {
        "colab": {
          "base_uri": "https://localhost:8080/",
          "height": 638
        },
        "id": "2XXuWTUshsG1",
        "outputId": "11f7ef15-1815-47c6-80c2-11a8db8795c7"
      },
      "execution_count": 44,
      "outputs": [
        {
          "output_type": "execute_result",
          "data": {
            "text/plain": [
              "<matplotlib.legend.Legend at 0x7f974557c350>"
            ]
          },
          "metadata": {},
          "execution_count": 44
        },
        {
          "output_type": "display_data",
          "data": {
            "text/plain": [
              "<Figure size 1728x720 with 1 Axes>"
            ],
            "image/png": "[encoded data removed]"
          },
          "metadata": {}
        }
      ]
    },
    {
      "cell_type": "markdown",
      "source": [
        "We can clearly see that\n",
        "\n",
        "*   The graph on Monday-Friday and Saturday-Sunday is clearly different \n",
        "\n",
        "\n"
      ],
      "metadata": {
        "id": "oXiwpfG5h9JN"
      }
    },
    {
      "cell_type": "markdown",
      "source": [
        "\n",
        "\n",
        "---\n",
        "\n",
        "\n",
        "What about bike preference of member rider?"
      ],
      "metadata": {
        "id": "gmvhovCF9-bc"
      }
    },
    {
      "cell_type": "code",
      "source": [
        "member_bike = all_data.loc[all_data['member_casual'] == 'member',[\"ride_id\",\"rideable_type\"]]\n",
        "\n",
        "member_bike.groupby(\"rideable_type\").count().sort_values(\"rideable_type\").plot(kind='pie', y='ride_id',autopct='%1.0f%%',title='Bike preference of member')"
      ],
      "metadata": {
        "id": "wId3jxhKp8X0",
        "colab": {
          "base_uri": "https://localhost:8080/",
          "height": 281
        },
        "outputId": "59c8c43a-9b92-4c87-af08-f5650eb3fbd3"
      },
      "execution_count": 18,
      "outputs": [
        {
          "output_type": "execute_result",
          "data": {
            "text/plain": [
              "<matplotlib.axes._subplots.AxesSubplot at 0x7f975298df50>"
            ]
          },
          "metadata": {},
          "execution_count": 18
        },
        {
          "output_type": "display_data",
          "data": {
            "text/plain": [
              "<Figure size 432x288 with 1 Axes>"
            ],
            "image/png": "[encoded data removed]"
          },
          "metadata": {}
        }
      ]
    },
    {
      "cell_type": "markdown",
      "source": [
        "\n",
        "\n",
        "*   The member does not use the docked bike.\n",
        "*   classic bike and electric bike is most likely the same.\n",
        "\n"
      ],
      "metadata": {
        "id": "Ht8DYaqM-HiY"
      }
    },
    {
      "cell_type": "markdown",
      "source": [
        "\n",
        "\n",
        "---\n",
        "\n",
        "\n",
        "\n",
        "Well, what about casual rider?"
      ],
      "metadata": {
        "id": "sHVInve8-coV"
      }
    },
    {
      "cell_type": "code",
      "source": [
        "casual_bike = all_data.loc[all_data['member_casual'] == 'casual',[\"ride_id\",\"rideable_type\"]]\n",
        "\n",
        "casual_bike.groupby(\"rideable_type\").count().reindex([\"classic_bike\",\"electric_bike\",\"docked_bike\"]).plot(kind='pie', y='ride_id',autopct='%1.0f%%',title='Bike preference of casual')\n",
        "plt.legend(loc=\"lower right\")"
      ],
      "metadata": {
        "colab": {
          "base_uri": "https://localhost:8080/",
          "height": 281
        },
        "id": "Kxozgy_hyPvp",
        "outputId": "d6c75b2f-0798-4705-a4e3-06e598009355"
      },
      "execution_count": 21,
      "outputs": [
        {
          "output_type": "execute_result",
          "data": {
            "text/plain": [
              "<matplotlib.legend.Legend at 0x7f975271d610>"
            ]
          },
          "metadata": {},
          "execution_count": 21
        },
        {
          "output_type": "display_data",
          "data": {
            "text/plain": [
              "<Figure size 432x288 with 1 Axes>"
            ],
            "image/png": "[encoded data removed]"
          },
          "metadata": {}
        }
      ]
    },
    {
      "cell_type": "markdown",
      "source": [
        "\n",
        "\n",
        "*   Most likely used electric bike\n",
        "*   Some are using docked bike\n",
        "\n"
      ],
      "metadata": {
        "id": "YbJnIczk-ioO"
      }
    },
    {
      "cell_type": "markdown",
      "source": [
        "\n",
        "\n",
        "---\n",
        "\n",
        "\n",
        "Next we'll look into the ride_length \n",
        "\n",
        "First let's use .describe()"
      ],
      "metadata": {
        "id": "V2O3MnaYAF48"
      }
    },
    {
      "cell_type": "code",
      "source": [
        "all_data.describe()"
      ],
      "metadata": {
        "colab": {
          "base_uri": "https://localhost:8080/",
          "height": 300
        },
        "id": "EXy8LIRA-8Zy",
        "outputId": "c25be494-be1e-4c00-dbc2-4697ca8ce5d7"
      },
      "execution_count": null,
      "outputs": [
        {
          "output_type": "execute_result",
          "data": {
            "text/plain": [
              "          start_lat     start_lng       end_lat       end_lng   ride_length  \\\n",
              "count  5.755694e+06  5.755694e+06  5.749859e+06  5.749859e+06  5.755694e+06   \n",
              "mean   4.190167e+01 -8.764782e+01  4.190192e+01 -8.764802e+01  1.895058e+01   \n",
              "std    4.677934e-02  3.050527e-02  4.688818e-02  3.009472e-02  1.747905e+02   \n",
              "min    4.164000e+01 -8.784000e+01  4.139000e+01 -8.897000e+01 -1.035400e+04   \n",
              "25%    4.188103e+01 -8.766201e+01  4.188103e+01 -8.766356e+01  5.000000e+00   \n",
              "50%    4.190000e+01 -8.764410e+01  4.190000e+01 -8.764414e+01  1.000000e+01   \n",
              "75%    4.193000e+01 -8.762952e+01  4.193000e+01 -8.762954e+01  1.800000e+01   \n",
              "max    4.563503e+01 -7.379648e+01  4.237000e+01 -8.730000e+01  4.138700e+04   \n",
              "\n",
              "         start_hour  \n",
              "count  5.755694e+06  \n",
              "mean   1.422014e+01  \n",
              "std    5.021527e+00  \n",
              "min    0.000000e+00  \n",
              "25%    1.100000e+01  \n",
              "50%    1.500000e+01  \n",
              "75%    1.800000e+01  \n",
              "max    2.300000e+01  "
            ],
            "text/html": [
              "\n",
              "  <div id=\"df-24b8bfb0-34e8-46fa-832b-0fea9bb73e59\">\n",
              "    <div class=\"colab-df-container\">\n",
              "      <div>\n",
              "<style scoped>\n",
              "    .dataframe tbody tr th:only-of-type {\n",
              "        vertical-align: middle;\n",
              "    }\n",
              "\n",
              "    .dataframe tbody tr th {\n",
              "        vertical-align: top;\n",
              "    }\n",
              "\n",
              "    .dataframe thead th {\n",
              "        text-align: right;\n",
              "    }\n",
              "</style>\n",
              "<table border=\"1\" class=\"dataframe\">\n",
              "  <thead>\n",
              "    <tr style=\"text-align: right;\">\n",
              "      <th></th>\n",
              "      <th>start_lat</th>\n",
              "      <th>start_lng</th>\n",
              "      <th>end_lat</th>\n",
              "      <th>end_lng</th>\n",
              "      <th>ride_length</th>\n",
              "      <th>start_hour</th>\n",
              "    </tr>\n",
              "  </thead>\n",
              "  <tbody>\n",
              "    <tr>\n",
              "      <th>count</th>\n",
              "      <td>5.755694e+06</td>\n",
              "      <td>5.755694e+06</td>\n",
              "      <td>5.749859e+06</td>\n",
              "      <td>5.749859e+06</td>\n",
              "      <td>5.755694e+06</td>\n",
              "      <td>5.755694e+06</td>\n",
              "    </tr>\n",
              "    <tr>\n",
              "      <th>mean</th>\n",
              "      <td>4.190167e+01</td>\n",
              "      <td>-8.764782e+01</td>\n",
              "      <td>4.190192e+01</td>\n",
              "      <td>-8.764802e+01</td>\n",
              "      <td>1.895058e+01</td>\n",
              "      <td>1.422014e+01</td>\n",
              "    </tr>\n",
              "    <tr>\n",
              "      <th>std</th>\n",
              "      <td>4.677934e-02</td>\n",
              "      <td>3.050527e-02</td>\n",
              "      <td>4.688818e-02</td>\n",
              "      <td>3.009472e-02</td>\n",
              "      <td>1.747905e+02</td>\n",
              "      <td>5.021527e+00</td>\n",
              "    </tr>\n",
              "    <tr>\n",
              "      <th>min</th>\n",
              "      <td>4.164000e+01</td>\n",
              "      <td>-8.784000e+01</td>\n",
              "      <td>4.139000e+01</td>\n",
              "      <td>-8.897000e+01</td>\n",
              "      <td>-1.035400e+04</td>\n",
              "      <td>0.000000e+00</td>\n",
              "    </tr>\n",
              "    <tr>\n",
              "      <th>25%</th>\n",
              "      <td>4.188103e+01</td>\n",
              "      <td>-8.766201e+01</td>\n",
              "      <td>4.188103e+01</td>\n",
              "      <td>-8.766356e+01</td>\n",
              "      <td>5.000000e+00</td>\n",
              "      <td>1.100000e+01</td>\n",
              "    </tr>\n",
              "    <tr>\n",
              "      <th>50%</th>\n",
              "      <td>4.190000e+01</td>\n",
              "      <td>-8.764410e+01</td>\n",
              "      <td>4.190000e+01</td>\n",
              "      <td>-8.764414e+01</td>\n",
              "      <td>1.000000e+01</td>\n",
              "      <td>1.500000e+01</td>\n",
              "    </tr>\n",
              "    <tr>\n",
              "      <th>75%</th>\n",
              "      <td>4.193000e+01</td>\n",
              "      <td>-8.762952e+01</td>\n",
              "      <td>4.193000e+01</td>\n",
              "      <td>-8.762954e+01</td>\n",
              "      <td>1.800000e+01</td>\n",
              "      <td>1.800000e+01</td>\n",
              "    </tr>\n",
              "    <tr>\n",
              "      <th>max</th>\n",
              "      <td>4.563503e+01</td>\n",
              "      <td>-7.379648e+01</td>\n",
              "      <td>4.237000e+01</td>\n",
              "      <td>-8.730000e+01</td>\n",
              "      <td>4.138700e+04</td>\n",
              "      <td>2.300000e+01</td>\n",
              "    </tr>\n",
              "  </tbody>\n",
              "</table>\n",
              "</div>\n",
              "      <button class=\"colab-df-convert\" onclick=\"convertToInteractive('df-24b8bfb0-34e8-46fa-832b-0fea9bb73e59')\"\n",
              "              title=\"Convert this dataframe to an interactive table.\"\n",
              "              style=\"display:none;\">\n",
              "        \n",
              "  <svg xmlns=\"http://www.w3.org/2000/svg\" height=\"24px\"viewBox=\"0 0 24 24\"\n",
              "       width=\"24px\">\n",
              "    <path d=\"M0 0h24v24H0V0z\" fill=\"none\"/>\n",
              "    <path d=\"M18.56 5.44l.94 2.06.94-2.06 2.06-.94-2.06-.94-.94-2.06-.94 2.06-2.06.94zm-11 1L8.5 8.5l.94-2.06 2.06-.94-2.06-.94L8.5 2.5l-.94 2.06-2.06.94zm10 10l.94 2.06.94-2.06 2.06-.94-2.06-.94-.94-2.06-.94 2.06-2.06.94z\"/><path d=\"M17.41 7.96l-1.37-1.37c-.4-.4-.92-.59-1.43-.59-.52 0-1.04.2-1.43.59L10.3 9.45l-7.72 7.72c-.78.78-.78 2.05 0 2.83L4 21.41c.39.39.9.59 1.41.59.51 0 1.02-.2 1.41-.59l7.78-7.78 2.81-2.81c.8-.78.8-2.07 0-2.86zM5.41 20L4 18.59l7.72-7.72 1.47 1.35L5.41 20z\"/>\n",
              "  </svg>\n",
              "      </button>\n",
              "      \n",
              "  <style>\n",
              "    .colab-df-container {\n",
              "      display:flex;\n",
              "      flex-wrap:wrap;\n",
              "      gap: 12px;\n",
              "    }\n",
              "\n",
              "    .colab-df-convert {\n",
              "      background-color: #E8F0FE;\n",
              "      border: none;\n",
              "      border-radius: 50%;\n",
              "      cursor: pointer;\n",
              "      display: none;\n",
              "      fill: #1967D2;\n",
              "      height: 32px;\n",
              "      padding: 0 0 0 0;\n",
              "      width: 32px;\n",
              "    }\n",
              "\n",
              "    .colab-df-convert:hover {\n",
              "      background-color: #E2EBFA;\n",
              "      box-shadow: 0px 1px 2px rgba(60, 64, 67, 0.3), 0px 1px 3px 1px rgba(60, 64, 67, 0.15);\n",
              "      fill: #174EA6;\n",
              "    }\n",
              "\n",
              "    [theme=dark] .colab-df-convert {\n",
              "      background-color: #3B4455;\n",
              "      fill: #D2E3FC;\n",
              "    }\n",
              "\n",
              "    [theme=dark] .colab-df-convert:hover {\n",
              "      background-color: #434B5C;\n",
              "      box-shadow: 0px 1px 3px 1px rgba(0, 0, 0, 0.15);\n",
              "      filter: drop-shadow(0px 1px 2px rgba(0, 0, 0, 0.3));\n",
              "      fill: #FFFFFF;\n",
              "    }\n",
              "  </style>\n",
              "\n",
              "      <script>\n",
              "        const buttonEl =\n",
              "          document.querySelector('#df-24b8bfb0-34e8-46fa-832b-0fea9bb73e59 button.colab-df-convert');\n",
              "        buttonEl.style.display =\n",
              "          google.colab.kernel.accessAllowed ? 'block' : 'none';\n",
              "\n",
              "        async function convertToInteractive(key) {\n",
              "          const element = document.querySelector('#df-24b8bfb0-34e8-46fa-832b-0fea9bb73e59');\n",
              "          const dataTable =\n",
              "            await google.colab.kernel.invokeFunction('convertToInteractive',\n",
              "                                                     [key], {});\n",
              "          if (!dataTable) return;\n",
              "\n",
              "          const docLinkHtml = 'Like what you see? Visit the ' +\n",
              "            '<a target=\"_blank\" href=https://colab.research.google.com/notebooks/data_table.ipynb>data table notebook</a>'\n",
              "            + ' to learn more about interactive tables.';\n",
              "          element.innerHTML = '';\n",
              "          dataTable['output_type'] = 'display_data';\n",
              "          await google.colab.output.renderOutput(dataTable, element);\n",
              "          const docLink = document.createElement('div');\n",
              "          docLink.innerHTML = docLinkHtml;\n",
              "          element.appendChild(docLink);\n",
              "        }\n",
              "      </script>\n",
              "    </div>\n",
              "  </div>\n",
              "  "
            ]
          },
          "metadata": {},
          "execution_count": 8
        }
      ]
    },
    {
      "cell_type": "markdown",
      "source": [
        "min ride_length seem to have problem \n",
        "length can't be minus\n"
      ],
      "metadata": {
        "id": "GMQAQSXkAXBI"
      }
    },
    {
      "cell_type": "code",
      "source": [
        "all_ride_length = all_data.loc[:,[\"ride_id\",\"rideable_type\",\"member_casual\",\"month\",\"day_of_week\",\"ride_length\"]]\n",
        "#member_ride_length_by_month\n",
        "all_ride_length.quantile([0,.05,.10,.15,.85,.90,.95,1])"
      ],
      "metadata": {
        "colab": {
          "base_uri": "https://localhost:8080/",
          "height": 300
        },
        "id": "W_C7C18Zy0Z_",
        "outputId": "10331768-2f4c-4c60-b036-9b492dd257b7"
      },
      "execution_count": 24,
      "outputs": [
        {
          "output_type": "execute_result",
          "data": {
            "text/plain": [
              "      ride_length\n",
              "0.00     -10354.0\n",
              "0.05          2.0\n",
              "0.10          3.0\n",
              "0.15          4.0\n",
              "0.85         25.0\n",
              "0.90         32.0\n",
              "0.95         45.0\n",
              "1.00      41387.0"
            ],
            "text/html": [
              "\n",
              "  <div id=\"df-461db915-646a-480a-b97e-c6bcab8acaf6\">\n",
              "    <div class=\"colab-df-container\">\n",
              "      <div>\n",
              "<style scoped>\n",
              "    .dataframe tbody tr th:only-of-type {\n",
              "        vertical-align: middle;\n",
              "    }\n",
              "\n",
              "    .dataframe tbody tr th {\n",
              "        vertical-align: top;\n",
              "    }\n",
              "\n",
              "    .dataframe thead th {\n",
              "        text-align: right;\n",
              "    }\n",
              "</style>\n",
              "<table border=\"1\" class=\"dataframe\">\n",
              "  <thead>\n",
              "    <tr style=\"text-align: right;\">\n",
              "      <th></th>\n",
              "      <th>ride_length</th>\n",
              "    </tr>\n",
              "  </thead>\n",
              "  <tbody>\n",
              "    <tr>\n",
              "      <th>0.00</th>\n",
              "      <td>-10354.0</td>\n",
              "    </tr>\n",
              "    <tr>\n",
              "      <th>0.05</th>\n",
              "      <td>2.0</td>\n",
              "    </tr>\n",
              "    <tr>\n",
              "      <th>0.10</th>\n",
              "      <td>3.0</td>\n",
              "    </tr>\n",
              "    <tr>\n",
              "      <th>0.15</th>\n",
              "      <td>4.0</td>\n",
              "    </tr>\n",
              "    <tr>\n",
              "      <th>0.85</th>\n",
              "      <td>25.0</td>\n",
              "    </tr>\n",
              "    <tr>\n",
              "      <th>0.90</th>\n",
              "      <td>32.0</td>\n",
              "    </tr>\n",
              "    <tr>\n",
              "      <th>0.95</th>\n",
              "      <td>45.0</td>\n",
              "    </tr>\n",
              "    <tr>\n",
              "      <th>1.00</th>\n",
              "      <td>41387.0</td>\n",
              "    </tr>\n",
              "  </tbody>\n",
              "</table>\n",
              "</div>\n",
              "      <button class=\"colab-df-convert\" onclick=\"convertToInteractive('df-461db915-646a-480a-b97e-c6bcab8acaf6')\"\n",
              "              title=\"Convert this dataframe to an interactive table.\"\n",
              "              style=\"display:none;\">\n",
              "        \n",
              "  <svg xmlns=\"http://www.w3.org/2000/svg\" height=\"24px\"viewBox=\"0 0 24 24\"\n",
              "       width=\"24px\">\n",
              "    <path d=\"M0 0h24v24H0V0z\" fill=\"none\"/>\n",
              "    <path d=\"M18.56 5.44l.94 2.06.94-2.06 2.06-.94-2.06-.94-.94-2.06-.94 2.06-2.06.94zm-11 1L8.5 8.5l.94-2.06 2.06-.94-2.06-.94L8.5 2.5l-.94 2.06-2.06.94zm10 10l.94 2.06.94-2.06 2.06-.94-2.06-.94-.94-2.06-.94 2.06-2.06.94z\"/><path d=\"M17.41 7.96l-1.37-1.37c-.4-.4-.92-.59-1.43-.59-.52 0-1.04.2-1.43.59L10.3 9.45l-7.72 7.72c-.78.78-.78 2.05 0 2.83L4 21.41c.39.39.9.59 1.41.59.51 0 1.02-.2 1.41-.59l7.78-7.78 2.81-2.81c.8-.78.8-2.07 0-2.86zM5.41 20L4 18.59l7.72-7.72 1.47 1.35L5.41 20z\"/>\n",
              "  </svg>\n",
              "      </button>\n",
              "      \n",
              "  <style>\n",
              "    .colab-df-container {\n",
              "      display:flex;\n",
              "      flex-wrap:wrap;\n",
              "      gap: 12px;\n",
              "    }\n",
              "\n",
              "    .colab-df-convert {\n",
              "      background-color: #E8F0FE;\n",
              "      border: none;\n",
              "      border-radius: 50%;\n",
              "      cursor: pointer;\n",
              "      display: none;\n",
              "      fill: #1967D2;\n",
              "      height: 32px;\n",
              "      padding: 0 0 0 0;\n",
              "      width: 32px;\n",
              "    }\n",
              "\n",
              "    .colab-df-convert:hover {\n",
              "      background-color: #E2EBFA;\n",
              "      box-shadow: 0px 1px 2px rgba(60, 64, 67, 0.3), 0px 1px 3px 1px rgba(60, 64, 67, 0.15);\n",
              "      fill: #174EA6;\n",
              "    }\n",
              "\n",
              "    [theme=dark] .colab-df-convert {\n",
              "      background-color: #3B4455;\n",
              "      fill: #D2E3FC;\n",
              "    }\n",
              "\n",
              "    [theme=dark] .colab-df-convert:hover {\n",
              "      background-color: #434B5C;\n",
              "      box-shadow: 0px 1px 3px 1px rgba(0, 0, 0, 0.15);\n",
              "      filter: drop-shadow(0px 1px 2px rgba(0, 0, 0, 0.3));\n",
              "      fill: #FFFFFF;\n",
              "    }\n",
              "  </style>\n",
              "\n",
              "      <script>\n",
              "        const buttonEl =\n",
              "          document.querySelector('#df-461db915-646a-480a-b97e-c6bcab8acaf6 button.colab-df-convert');\n",
              "        buttonEl.style.display =\n",
              "          google.colab.kernel.accessAllowed ? 'block' : 'none';\n",
              "\n",
              "        async function convertToInteractive(key) {\n",
              "          const element = document.querySelector('#df-461db915-646a-480a-b97e-c6bcab8acaf6');\n",
              "          const dataTable =\n",
              "            await google.colab.kernel.invokeFunction('convertToInteractive',\n",
              "                                                     [key], {});\n",
              "          if (!dataTable) return;\n",
              "\n",
              "          const docLinkHtml = 'Like what you see? Visit the ' +\n",
              "            '<a target=\"_blank\" href=https://colab.research.google.com/notebooks/data_table.ipynb>data table notebook</a>'\n",
              "            + ' to learn more about interactive tables.';\n",
              "          element.innerHTML = '';\n",
              "          dataTable['output_type'] = 'display_data';\n",
              "          await google.colab.output.renderOutput(dataTable, element);\n",
              "          const docLink = document.createElement('div');\n",
              "          docLink.innerHTML = docLinkHtml;\n",
              "          element.appendChild(docLink);\n",
              "        }\n",
              "      </script>\n",
              "    </div>\n",
              "  </div>\n",
              "  "
            ]
          },
          "metadata": {},
          "execution_count": 24
        }
      ]
    },
    {
      "cell_type": "markdown",
      "source": [
        "We'll remove outliner, so we'll use only data from percentile 5-95%"
      ],
      "metadata": {
        "id": "4bTfHxK6AhqZ"
      }
    },
    {
      "cell_type": "code",
      "source": [
        "data_95 = all_ride_length[all_ride_length.ride_length > np.percentile(all_ride_length.ride_length,95)].index\n",
        "data_5 = all_ride_length[all_ride_length.ride_length < np.percentile(all_ride_length.ride_length,5)].index\n",
        "all_length_no_outliner = all_ride_length.drop(data_95)\n",
        "all_length_no_outliner = all_length_no_outliner.drop(data_5)\n",
        "all_length_no_outliner.describe()"
      ],
      "metadata": {
        "colab": {
          "base_uri": "https://localhost:8080/",
          "height": 300
        },
        "id": "1O-IBN3Dkfz3",
        "outputId": "78f9dca7-a5d5-45f5-b9c7-a46ce1ee5f3f"
      },
      "execution_count": 25,
      "outputs": [
        {
          "output_type": "execute_result",
          "data": {
            "text/plain": [
              "        ride_length\n",
              "count  5.253983e+06\n",
              "mean   1.252299e+01\n",
              "std    9.250347e+00\n",
              "min    2.000000e+00\n",
              "25%    6.000000e+00\n",
              "50%    1.000000e+01\n",
              "75%    1.700000e+01\n",
              "max    4.500000e+01"
            ],
            "text/html": [
              "\n",
              "  <div id=\"df-5c171b69-a205-4401-8740-6501ce31bfd1\">\n",
              "    <div class=\"colab-df-container\">\n",
              "      <div>\n",
              "<style scoped>\n",
              "    .dataframe tbody tr th:only-of-type {\n",
              "        vertical-align: middle;\n",
              "    }\n",
              "\n",
              "    .dataframe tbody tr th {\n",
              "        vertical-align: top;\n",
              "    }\n",
              "\n",
              "    .dataframe thead th {\n",
              "        text-align: right;\n",
              "    }\n",
              "</style>\n",
              "<table border=\"1\" class=\"dataframe\">\n",
              "  <thead>\n",
              "    <tr style=\"text-align: right;\">\n",
              "      <th></th>\n",
              "      <th>ride_length</th>\n",
              "    </tr>\n",
              "  </thead>\n",
              "  <tbody>\n",
              "    <tr>\n",
              "      <th>count</th>\n",
              "      <td>5.253983e+06</td>\n",
              "    </tr>\n",
              "    <tr>\n",
              "      <th>mean</th>\n",
              "      <td>1.252299e+01</td>\n",
              "    </tr>\n",
              "    <tr>\n",
              "      <th>std</th>\n",
              "      <td>9.250347e+00</td>\n",
              "    </tr>\n",
              "    <tr>\n",
              "      <th>min</th>\n",
              "      <td>2.000000e+00</td>\n",
              "    </tr>\n",
              "    <tr>\n",
              "      <th>25%</th>\n",
              "      <td>6.000000e+00</td>\n",
              "    </tr>\n",
              "    <tr>\n",
              "      <th>50%</th>\n",
              "      <td>1.000000e+01</td>\n",
              "    </tr>\n",
              "    <tr>\n",
              "      <th>75%</th>\n",
              "      <td>1.700000e+01</td>\n",
              "    </tr>\n",
              "    <tr>\n",
              "      <th>max</th>\n",
              "      <td>4.500000e+01</td>\n",
              "    </tr>\n",
              "  </tbody>\n",
              "</table>\n",
              "</div>\n",
              "      <button class=\"colab-df-convert\" onclick=\"convertToInteractive('df-5c171b69-a205-4401-8740-6501ce31bfd1')\"\n",
              "              title=\"Convert this dataframe to an interactive table.\"\n",
              "              style=\"display:none;\">\n",
              "        \n",
              "  <svg xmlns=\"http://www.w3.org/2000/svg\" height=\"24px\"viewBox=\"0 0 24 24\"\n",
              "       width=\"24px\">\n",
              "    <path d=\"M0 0h24v24H0V0z\" fill=\"none\"/>\n",
              "    <path d=\"M18.56 5.44l.94 2.06.94-2.06 2.06-.94-2.06-.94-.94-2.06-.94 2.06-2.06.94zm-11 1L8.5 8.5l.94-2.06 2.06-.94-2.06-.94L8.5 2.5l-.94 2.06-2.06.94zm10 10l.94 2.06.94-2.06 2.06-.94-2.06-.94-.94-2.06-.94 2.06-2.06.94z\"/><path d=\"M17.41 7.96l-1.37-1.37c-.4-.4-.92-.59-1.43-.59-.52 0-1.04.2-1.43.59L10.3 9.45l-7.72 7.72c-.78.78-.78 2.05 0 2.83L4 21.41c.39.39.9.59 1.41.59.51 0 1.02-.2 1.41-.59l7.78-7.78 2.81-2.81c.8-.78.8-2.07 0-2.86zM5.41 20L4 18.59l7.72-7.72 1.47 1.35L5.41 20z\"/>\n",
              "  </svg>\n",
              "      </button>\n",
              "      \n",
              "  <style>\n",
              "    .colab-df-container {\n",
              "      display:flex;\n",
              "      flex-wrap:wrap;\n",
              "      gap: 12px;\n",
              "    }\n",
              "\n",
              "    .colab-df-convert {\n",
              "      background-color: #E8F0FE;\n",
              "      border: none;\n",
              "      border-radius: 50%;\n",
              "      cursor: pointer;\n",
              "      display: none;\n",
              "      fill: #1967D2;\n",
              "      height: 32px;\n",
              "      padding: 0 0 0 0;\n",
              "      width: 32px;\n",
              "    }\n",
              "\n",
              "    .colab-df-convert:hover {\n",
              "      background-color: #E2EBFA;\n",
              "      box-shadow: 0px 1px 2px rgba(60, 64, 67, 0.3), 0px 1px 3px 1px rgba(60, 64, 67, 0.15);\n",
              "      fill: #174EA6;\n",
              "    }\n",
              "\n",
              "    [theme=dark] .colab-df-convert {\n",
              "      background-color: #3B4455;\n",
              "      fill: #D2E3FC;\n",
              "    }\n",
              "\n",
              "    [theme=dark] .colab-df-convert:hover {\n",
              "      background-color: #434B5C;\n",
              "      box-shadow: 0px 1px 3px 1px rgba(0, 0, 0, 0.15);\n",
              "      filter: drop-shadow(0px 1px 2px rgba(0, 0, 0, 0.3));\n",
              "      fill: #FFFFFF;\n",
              "    }\n",
              "  </style>\n",
              "\n",
              "      <script>\n",
              "        const buttonEl =\n",
              "          document.querySelector('#df-5c171b69-a205-4401-8740-6501ce31bfd1 button.colab-df-convert');\n",
              "        buttonEl.style.display =\n",
              "          google.colab.kernel.accessAllowed ? 'block' : 'none';\n",
              "\n",
              "        async function convertToInteractive(key) {\n",
              "          const element = document.querySelector('#df-5c171b69-a205-4401-8740-6501ce31bfd1');\n",
              "          const dataTable =\n",
              "            await google.colab.kernel.invokeFunction('convertToInteractive',\n",
              "                                                     [key], {});\n",
              "          if (!dataTable) return;\n",
              "\n",
              "          const docLinkHtml = 'Like what you see? Visit the ' +\n",
              "            '<a target=\"_blank\" href=https://colab.research.google.com/notebooks/data_table.ipynb>data table notebook</a>'\n",
              "            + ' to learn more about interactive tables.';\n",
              "          element.innerHTML = '';\n",
              "          dataTable['output_type'] = 'display_data';\n",
              "          await google.colab.output.renderOutput(dataTable, element);\n",
              "          const docLink = document.createElement('div');\n",
              "          docLink.innerHTML = docLinkHtml;\n",
              "          element.appendChild(docLink);\n",
              "        }\n",
              "      </script>\n",
              "    </div>\n",
              "  </div>\n",
              "  "
            ]
          },
          "metadata": {},
          "execution_count": 25
        }
      ]
    },
    {
      "cell_type": "markdown",
      "source": [
        "\n",
        "\n",
        "---\n",
        "\n",
        "\n",
        "After we delete outliner. let's see some basic information "
      ],
      "metadata": {
        "id": "MuGZpdVaA1BE"
      }
    },
    {
      "cell_type": "markdown",
      "source": [
        "Different between sum of member and casual ride_length"
      ],
      "metadata": {
        "id": "VC0z_J3lA-A-"
      }
    },
    {
      "cell_type": "code",
      "source": [
        "all_length_no_outliner.groupby(\"member_casual\")[\"ride_length\"].sum().reindex([\"member\",\"casual\"]).plot(kind='pie', y='ride_length',autopct='%1.0f%%',title='Sum of all ride length')"
      ],
      "metadata": {
        "colab": {
          "base_uri": "https://localhost:8080/",
          "height": 281
        },
        "id": "YfHuXlPdpSbF",
        "outputId": "e56cbc52-b3ae-4ff4-a06b-00bca5dd8c6b"
      },
      "execution_count": 26,
      "outputs": [
        {
          "output_type": "execute_result",
          "data": {
            "text/plain": [
              "<matplotlib.axes._subplots.AxesSubplot at 0x7f975269e990>"
            ]
          },
          "metadata": {},
          "execution_count": 26
        },
        {
          "output_type": "display_data",
          "data": {
            "text/plain": [
              "<Figure size 432x288 with 1 Axes>"
            ],
            "image/png": "[encoded data removed]"
          },
          "metadata": {}
        }
      ]
    },
    {
      "cell_type": "markdown",
      "source": [
        "\n",
        "\n",
        "---\n",
        "\n",
        "\n",
        "Differnt Between average of member and casual ride_length"
      ],
      "metadata": {
        "id": "cXn3d1SmBEbu"
      }
    },
    {
      "cell_type": "code",
      "source": [
        "all_length_no_outliner.groupby(\"member_casual\")[\"ride_length\"].mean().reindex([\"member\",\"casual\"]).plot(kind='pie', y='ride_length',autopct='%1.0f%%',title='Average of all ride length')"
      ],
      "metadata": {
        "colab": {
          "base_uri": "https://localhost:8080/",
          "height": 281
        },
        "id": "8idCLVNgrZOl",
        "outputId": "ec5e1b4f-ef0d-49b6-e6e2-dbb8f92c35b4"
      },
      "execution_count": 27,
      "outputs": [
        {
          "output_type": "execute_result",
          "data": {
            "text/plain": [
              "<matplotlib.axes._subplots.AxesSubplot at 0x7f975266a5d0>"
            ]
          },
          "metadata": {},
          "execution_count": 27
        },
        {
          "output_type": "display_data",
          "data": {
            "text/plain": [
              "<Figure size 432x288 with 1 Axes>"
            ],
            "image/png": "[encoded data removed]"
          },
          "metadata": {}
        }
      ]
    },
    {
      "cell_type": "markdown",
      "source": [
        "We can see that\n",
        "\n",
        "*   Total ride_length of member is more than casual rides because number of member rides are more than casual rides\n",
        "*   But average ride_length of casual rides is more than member rides\n",
        "\n"
      ],
      "metadata": {
        "id": "4pingcRjBOor"
      }
    },
    {
      "cell_type": "markdown",
      "source": [
        "\n",
        "\n",
        "---\n",
        "\n",
        "\n",
        "Let's see more details \n",
        "\n",
        "Average ride_length of member and casual rides by month"
      ],
      "metadata": {
        "id": "_xlXXWZnCnma"
      }
    },
    {
      "cell_type": "code",
      "source": [
        "member_ride_length_by_month = all_length_no_outliner.loc[all_length_no_outliner[\"member_casual\"] == \"member\",[\"ride_id\",\"month\",\"ride_length\"]].groupby(\"month\").mean()\n",
        "casual_ride_length_by_month = all_length_no_outliner.loc[all_length_no_outliner[\"member_casual\"] == \"casual\",[\"ride_id\",\"month\",\"ride_length\"]].groupby(\"month\").mean()\n",
        "\n",
        "fig, ax = plt.subplots(figsize=(24, 10))\n",
        "x = np.arange(len(all_data.month.unique()))\n",
        "bar_width = 0.4\n",
        "\n",
        "ax.set_ylabel(\"Average ride length\")\n",
        "ax.set_title(\"Average ride length in each months\")\n",
        "ax.set_xlabel(\"Months\")\n",
        "ax.set_xticks(x + bar_width / 2)\n",
        "ax.set_xticklabels(all_data.month.unique())\n",
        "\n",
        "b1 = ax.bar(x, member_ride_length_by_month[\"ride_length\"],width=bar_width,label='Member')\n",
        "b2 = ax.bar(x + bar_width, casual_ride_length_by_month[\"ride_length\"],width=bar_width,label='casual')\n",
        "ax.legend()"
      ],
      "metadata": {
        "colab": {
          "base_uri": "https://localhost:8080/",
          "height": 638
        },
        "id": "JXRUcQ6cnFsN",
        "outputId": "9b8f0410-9ba0-40a0-cfbb-9aa852c1a0c3"
      },
      "execution_count": 45,
      "outputs": [
        {
          "output_type": "execute_result",
          "data": {
            "text/plain": [
              "<matplotlib.legend.Legend at 0x7f974589c850>"
            ]
          },
          "metadata": {},
          "execution_count": 45
        },
        {
          "output_type": "display_data",
          "data": {
            "text/plain": [
              "<Figure size 1728x720 with 1 Axes>"
            ],
            "image/png": "[encoded data removed]"
          },
          "metadata": {}
        }
      ]
    },
    {
      "cell_type": "markdown",
      "source": [
        "Does not see much but average of casual rides are more than member rides in every month"
      ],
      "metadata": {
        "id": "a1pepdxXDXI5"
      }
    },
    {
      "cell_type": "markdown",
      "source": [
        "\n",
        "\n",
        "---\n",
        "\n",
        "\n",
        "Next let's see average ride_length by day of week "
      ],
      "metadata": {
        "id": "296effQ6EKy1"
      }
    },
    {
      "cell_type": "code",
      "source": [
        "member_ride_length_by_week_day = all_length_no_outliner.loc[all_length_no_outliner[\"member_casual\"] == \"member\",[\"ride_id\",\"day_of_week\",\"ride_length\"]].groupby(\"day_of_week\").mean()\n",
        "casual_ride_length_by_week_day = all_length_no_outliner.loc[all_length_no_outliner[\"member_casual\"] == \"casual\",[\"ride_id\",\"day_of_week\",\"ride_length\"]].groupby(\"day_of_week\").mean()\n",
        "\n",
        "day_index = [ 'Monday', 'Tuesday', 'Wednesday', 'Thursday', 'Friday', 'Saturday', 'Sunday']\n",
        "\n",
        "fig, ax = plt.subplots(figsize=(24, 10))\n",
        "x = np.arange(len(all_data.day_of_week.unique()))\n",
        "bar_width = 0.4\n",
        "\n",
        "ax.set_ylabel(\"Average ride length\")\n",
        "ax.set_title(\"Average ride length in each days\")\n",
        "ax.set_xlabel(\"Days\")\n",
        "ax.set_xticks(x + bar_width / 2)\n",
        "ax.set_xticklabels(day_index)\n",
        "\n",
        "b1 = ax.bar(x, member_ride_length_by_week_day[\"ride_length\"].reindex(day_index),width=bar_width,label='Member')\n",
        "b2 = ax.bar(x + bar_width, casual_ride_length_by_week_day[\"ride_length\"].reindex(day_index),width=bar_width,label='casual')\n",
        "ax.legend()"
      ],
      "metadata": {
        "colab": {
          "base_uri": "https://localhost:8080/",
          "height": 638
        },
        "id": "-tItdD9Cos9N",
        "outputId": "cbb4456a-79fb-4393-f385-4497e929b8df"
      },
      "execution_count": 46,
      "outputs": [
        {
          "output_type": "execute_result",
          "data": {
            "text/plain": [
              "<matplotlib.legend.Legend at 0x7f9745cd1cd0>"
            ]
          },
          "metadata": {},
          "execution_count": 46
        },
        {
          "output_type": "display_data",
          "data": {
            "text/plain": [
              "<Figure size 1728x720 with 1 Axes>"
            ],
            "image/png": "[encoded data removed]"
          },
          "metadata": {}
        }
      ]
    },
    {
      "cell_type": "markdown",
      "source": [
        "Well average ride_length of casual ride still more than member average ride_length"
      ],
      "metadata": {
        "id": "Td3GXB1TErYn"
      }
    },
    {
      "cell_type": "markdown",
      "source": [
        "\n",
        "\n",
        "---\n",
        "\n",
        "\n",
        "Next the average ride_length of each bike of member rides"
      ],
      "metadata": {
        "id": "_hkqVludFNtu"
      }
    },
    {
      "cell_type": "code",
      "source": [
        "member_ride_length_by_rideable = all_length_no_outliner.loc[all_length_no_outliner[\"member_casual\"] == \"member\",[\"ride_id\",\"rideable_type\",\"ride_length\"]].groupby(\"rideable_type\").mean()\n",
        "\n",
        "member_ride_length_by_rideable.sort_values(\"rideable_type\").plot(kind='pie', y='ride_length',autopct='%1.0f%%',title='Average ride length of member each bike')"
      ],
      "metadata": {
        "colab": {
          "base_uri": "https://localhost:8080/",
          "height": 281
        },
        "id": "rN-HKCAlrmQc",
        "outputId": "1782390d-f26f-4821-8274-8348bbea0fee"
      },
      "execution_count": 28,
      "outputs": [
        {
          "output_type": "execute_result",
          "data": {
            "text/plain": [
              "<matplotlib.axes._subplots.AxesSubplot at 0x7f975264a610>"
            ]
          },
          "metadata": {},
          "execution_count": 28
        },
        {
          "output_type": "display_data",
          "data": {
            "text/plain": [
              "<Figure size 432x288 with 1 Axes>"
            ],
            "image/png": "[encoded data removed]"
          },
          "metadata": {}
        }
      ]
    },
    {
      "cell_type": "markdown",
      "source": [
        "The member still use classic bike more than the electric bike"
      ],
      "metadata": {
        "id": "_9Y0GvxsFp29"
      }
    },
    {
      "cell_type": "markdown",
      "source": [
        "\n",
        "\n",
        "---\n",
        "\n",
        "\n",
        "Average ride_length of each bike of casual rides"
      ],
      "metadata": {
        "id": "UJKZgwDKFcNo"
      }
    },
    {
      "cell_type": "code",
      "source": [
        "casual_ride_length_by_rideable = all_length_no_outliner.loc[all_length_no_outliner[\"member_casual\"] == \"casual\",[\"ride_id\",\"rideable_type\",\"ride_length\"]].groupby(\"rideable_type\").mean()\n",
        "\n",
        "casual_ride_length_by_rideable.reindex([\"classic_bike\",\"electric_bike\",\"docked_bike\"]).plot(kind='pie', y='ride_length',autopct='%1.0f%%',title='Bike preference of member')\n",
        "plt.legend(loc=\"lower left\")"
      ],
      "metadata": {
        "colab": {
          "base_uri": "https://localhost:8080/",
          "height": 281
        },
        "id": "zoqBaot4r098",
        "outputId": "b5a78db7-c8ec-464c-ac57-461750fdb282"
      },
      "execution_count": 30,
      "outputs": [
        {
          "output_type": "execute_result",
          "data": {
            "text/plain": [
              "<matplotlib.legend.Legend at 0x7f9752843590>"
            ]
          },
          "metadata": {},
          "execution_count": 30
        },
        {
          "output_type": "display_data",
          "data": {
            "text/plain": [
              "<Figure size 432x288 with 1 Axes>"
            ],
            "image/png": "[encoded data removed]"
          },
          "metadata": {}
        }
      ]
    },
    {
      "cell_type": "markdown",
      "source": [
        "Interesting that docked bike that have the least used but have the most average ride_length\n",
        "\n",
        "\n",
        "---\n",
        "\n"
      ],
      "metadata": {
        "id": "LEufSnTsF3z1"
      }
    },
    {
      "cell_type": "markdown",
      "source": [
        "## Summary\n",
        "\n",
        "\n",
        "\n",
        "*   The number of casual rides are less than the number of member rides but the average ride length of casual are more then the member average ride length\n",
        "*   The number of casual rides peak on weekend it mean that the casual rider don't use the bike to go to work\n",
        "*   Average ride length each months are most likely the same but the number of rides decrese due to the cold weather \n",
        "\n",
        "\n",
        "\n",
        "\n"
      ],
      "metadata": {
        "id": "aZENiouejCtt"
      }
    },
    {
      "cell_type": "markdown",
      "source": [
        "### What we could do?\n",
        "\n",
        "*   Promote how riding the bike Benefits the Environment and built campaign on riding to work\n",
        "*   Do the campaign that focus the exercise on weekend\n",
        "*   In winter season we could make some promotion like discount\n",
        "*   Gather more data of rider might be benefits on how to promotes our company\n",
        "\n",
        "\n",
        "\n",
        "\n",
        "\n"
      ],
      "metadata": {
        "id": "t2cCm8aerDs6"
      }
    }
  ]
}